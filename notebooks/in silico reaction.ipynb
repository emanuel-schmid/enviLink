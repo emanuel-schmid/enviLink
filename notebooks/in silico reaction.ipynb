{
 "cells": [
  {
   "cell_type": "markdown",
   "metadata": {},
   "source": [
    "# _In silico_ Reaction"
   ]
  },
  {
   "cell_type": "markdown",
   "metadata": {},
   "source": [
    "## Table of Content <a class=\"anchor\" id=\"toc\"></a>\n",
    "#### [Summary](#overview)\n",
    "#### Data\n",
    "* [Globals](#globals)\n",
    "* [Compounds](#compounds)\n",
    "* [Rules](#rules)\n",
    "* [Reactions](#reactions)\n",
    "\n",
    "#### Processing\n",
    "* [Standardization](#standardization)\n",
    "* [Rule Application](#prediction)\n",
    "* [Workflow](#workflow)\n",
    "\n",
    "#### Post-Processing\n",
    "* [Exclusion Filters](#filter)\n",
    "\n",
    "## <a class=\"anchor\" id=\"overview\"></a>Summary [$\\Uparrow$](#toc)\n",
    "This is the first major step in the workflow creating enviLink. Here, all substrates of the respective dataset's reactions are combined with all Eawag-BBD biotransformation rules (btrules), and subjected to the _in silico_ reactor [Ambit2](http://ambit.sourceforge.net/reactor.html). The predicted reactions are then collected and stored in a relational database for further processing, i.e. application of the [matching algorithm](match-KEGG.ipynb).\n",
    "\n",
    "Before the reaction prediction, the substrates are submitted to various standardization routines, which identify standardized forms of the substrate (if they differ from the original form). And after the prediction the predicted reaction's products are submitted to the standardization routines as well. For more information and details about the standardization routines, see [Standardization Methods](./standardization%20methods.ipynb). All standardized forms are then stored in the mentioned database as well. In the second step of the enviLink workflow, [match KEGG](./match-KEGG.ipynb), the standardized forms together with the original molecule are combined to an equivalence class of molecules. This equivalence classes, rather then the individual molecules, will then be the essential input for the matching algorithm.\n",
    "\n",
    "After the prediction, some of the predicted reactions are excluded from the list, because their products or substrates offend an additional, SMART-based restriction that is associated with some btrules.\n",
    "\n",
    "## <a class=\"anchor\" id=\"globals\"></a>Globals [$\\Uparrow$](#toc)\n",
    "#### The Configuration\n",
    "Containing credentials to access envipath and the workflow database."
   ]
  },
  {
   "cell_type": "code",
   "execution_count": 1,
   "metadata": {},
   "outputs": [],
   "source": [
    "import yaml\n",
    "with open(\"config.yaml\", 'r') as stream:\n",
    "    config = yaml.safe_load(stream)"
   ]
  },
  {
   "cell_type": "markdown",
   "metadata": {},
   "source": [
    "#### Directories Used in the Workflow"
   ]
  },
  {
   "cell_type": "code",
   "execution_count": 2,
   "metadata": {},
   "outputs": [],
   "source": [
    "DATASET = 'EAWAG-BBD'\n",
    "DATA = config['datadir'][DATASET]\n",
    "TEMP = config['datadir']['temp']\n",
    "BIN = config['binaries']\n",
    "SRC = config['sources']"
   ]
  },
  {
   "cell_type": "markdown",
   "metadata": {},
   "source": [
    "#### envipath Client\n",
    "Used to collect the biodegradation rules"
   ]
  },
  {
   "cell_type": "code",
   "execution_count": 3,
   "metadata": {},
   "outputs": [],
   "source": [
    "from envirest import EnviPathClient\n",
    "from getpass import getpass\n",
    "envipath = config['envipath']\n",
    "client = EnviPathClient(\n",
    "    envipath['host'],\n",
    "    secure=envipath['secure'],\n",
    "    verify=envipath['verified'])"
   ]
  },
  {
   "cell_type": "markdown",
   "metadata": {},
   "source": [
    "#### Workflow Database\n",
    "Stores normalized SMILES, rules, reactions to be matched and the  reactions from the _in silico_ reaction prediction. The database is initiated as an empty database and all tables are created along the workflow.<br>\n",
    "The content of the database is the main output from the first step of the workflow and the main input for the second step."
   ]
  },
  {
   "cell_type": "code",
   "execution_count": 4,
   "metadata": {},
   "outputs": [],
   "source": [
    "from sqlalchemy import create_engine\n",
    "database = config['db']\n",
    "DRIVER = database['driver']\n",
    "HOST = database['host']\n",
    "USER = database['user']\n",
    "DB = database['name'][DATASET]\n",
    "PW = database['password']\n",
    "rradb = create_engine(f'{DRIVER}://{USER}:{PW}@{HOST}/{DB}')"
   ]
  },
  {
   "cell_type": "code",
   "execution_count": 5,
   "metadata": {},
   "outputs": [],
   "source": [
    "import sys\n",
    "sys.path.append(f'{SRC}/rr')\n",
    "from reacdb.sql import DataBase\n",
    "params = {'host': HOST,\n",
    "          'dbname': DB,\n",
    "          'username': USER,\n",
    "          'password': PW\n",
    "         }\n",
    "db = DataBase(params)"
   ]
  },
  {
   "cell_type": "markdown",
   "metadata": {},
   "source": [
    "## <a class=\"anchor\" id=\"compounds\"></a>Compounds  [$\\Uparrow$](#toc)\n",
    "Compound input data is read from a tab separated text file (compounds.tsv) which has 3 columns:\n",
    "- compound identifier\n",
    "- compound group identifier\n",
    "- the original (non standardized) SMILES string\n",
    "\n",
    "The `compound group identifier` can be used when a database compound has alternative structures or in cases where the structure of a compound has some degree of freedom, like PCBs (polychlorinated biphenyls), where the exact position of the chloride atoms differs between stereoisomers.\n",
    "<img src='Polychlorinated_biphenyl_structure.svg.png'>\n",
    "The prediction routine can only work on single SMILES which are associated to the first column, `compound identifier`, but the matching algorithm eventually matches equivalence classes of compounds, which are based on the `compound group identifier`.\n",
    "\n",
    "#### Read Compounds from File"
   ]
  },
  {
   "cell_type": "code",
   "execution_count": 6,
   "metadata": {},
   "outputs": [
    {
     "data": {
      "text/html": [
       "<div>\n",
       "<style scoped>\n",
       "    .dataframe tbody tr th:only-of-type {\n",
       "        vertical-align: middle;\n",
       "    }\n",
       "\n",
       "    .dataframe tbody tr th {\n",
       "        vertical-align: top;\n",
       "    }\n",
       "\n",
       "    .dataframe thead th {\n",
       "        text-align: right;\n",
       "    }\n",
       "</style>\n",
       "<table border=\"1\" class=\"dataframe\">\n",
       "  <thead>\n",
       "    <tr style=\"text-align: right;\">\n",
       "      <th></th>\n",
       "      <th>sid</th>\n",
       "      <th>cid</th>\n",
       "      <th>smiles</th>\n",
       "    </tr>\n",
       "  </thead>\n",
       "  <tbody>\n",
       "    <tr>\n",
       "      <th>0</th>\n",
       "      <td>8d63dbac-227d-4898-86fe-b19bf6683e84</td>\n",
       "      <td>3a797060-38fa-4661-8603-48773b3aff58</td>\n",
       "      <td>C1=CC2=C(C=C1)C3=C(C=C[C@@H]([C@@H]3O)O)C2</td>\n",
       "    </tr>\n",
       "    <tr>\n",
       "      <th>1</th>\n",
       "      <td>8723c215-b1e7-4719-9aa0-d4c1c85a0269</td>\n",
       "      <td>60de31b0-a3c3-4739-9f88-7c5c78a14a76</td>\n",
       "      <td>C=C(C)[C@H]1CC=C(C)CC1</td>\n",
       "    </tr>\n",
       "    <tr>\n",
       "      <th>2</th>\n",
       "      <td>5f574ab2-4990-4548-81e7-16bb217447ac</td>\n",
       "      <td>e4fe0464-864c-4cb3-9587-5a82d6dc67fa</td>\n",
       "      <td>CC1(C)C2CCC1(C)C(=O)C2</td>\n",
       "    </tr>\n",
       "    <tr>\n",
       "      <th>3</th>\n",
       "      <td>794de362-0e07-4a9d-a447-55dc59318b1f</td>\n",
       "      <td>04466823-ecf7-4dbd-9a81-ea0bf8e40dcc</td>\n",
       "      <td>CC(C)[C@@H]1CC[C@@H](C)CC1O</td>\n",
       "    </tr>\n",
       "    <tr>\n",
       "      <th>4</th>\n",
       "      <td>7640df0d-0730-4354-ad81-dfc6d668a81e</td>\n",
       "      <td>ff1575d1-ebba-4d8b-b5db-f4bae1049779</td>\n",
       "      <td>CC(C)[C@@H]1CC[C@@H](C)CC1=O</td>\n",
       "    </tr>\n",
       "  </tbody>\n",
       "</table>\n",
       "</div>"
      ],
      "text/plain": [
       "                                    sid                                   cid  \\\n",
       "0  8d63dbac-227d-4898-86fe-b19bf6683e84  3a797060-38fa-4661-8603-48773b3aff58   \n",
       "1  8723c215-b1e7-4719-9aa0-d4c1c85a0269  60de31b0-a3c3-4739-9f88-7c5c78a14a76   \n",
       "2  5f574ab2-4990-4548-81e7-16bb217447ac  e4fe0464-864c-4cb3-9587-5a82d6dc67fa   \n",
       "3  794de362-0e07-4a9d-a447-55dc59318b1f  04466823-ecf7-4dbd-9a81-ea0bf8e40dcc   \n",
       "4  7640df0d-0730-4354-ad81-dfc6d668a81e  ff1575d1-ebba-4d8b-b5db-f4bae1049779   \n",
       "\n",
       "                                       smiles  \n",
       "0  C1=CC2=C(C=C1)C3=C(C=C[C@@H]([C@@H]3O)O)C2  \n",
       "1                      C=C(C)[C@H]1CC=C(C)CC1  \n",
       "2                      CC1(C)C2CCC1(C)C(=O)C2  \n",
       "3                 CC(C)[C@@H]1CC[C@@H](C)CC1O  \n",
       "4                CC(C)[C@@H]1CC[C@@H](C)CC1=O  "
      ]
     },
     "execution_count": 6,
     "metadata": {},
     "output_type": "execute_result"
    }
   ],
   "source": [
    "from pandas import read_csv\n",
    "RAWCOMPOUNDS = f'{DATA}/{DATASET}_compounds.tsv'\n",
    "structures = read_csv(RAWCOMPOUNDS, sep='\\t', header=None, names=['sid', 'cid', 'smiles'])\n",
    "structures.head()"
   ]
  },
  {
   "cell_type": "markdown",
   "metadata": {},
   "source": [
    "#### Normalization\n",
    "Normalization removes co-enzyme A from the compounds because CoA groups are producing a high number of predicted reactions that do not contribute to a meaningful association between reactions. Technically, the normalization is a particular standardization routine (for details see [Standardization Methods](./standardization%20methods.ipynb))."
   ]
  },
  {
   "cell_type": "code",
   "execution_count": 7,
   "metadata": {},
   "outputs": [
    {
     "name": "stdout",
     "output_type": "stream",
     "text": [
      "0    [main] INFO  net.sf.jnati.deploy.artefact.ConfigManager  - Loading global configuration\n",
      "4    [main] DEBUG net.sf.jnati.deploy.artefact.ConfigManager  - Loading defaults: jar:file:/home/schema/work/bin/lib/PPS-tool-box-0.3.1-jar-with-dependencies.jar!/META-INF/jnati/jnati.default-properties\n",
      "4    [main] INFO  net.sf.jnati.deploy.artefact.ConfigManager  - Loading artefact configuration: jniinchi-1.03_1\n",
      "5    [main] DEBUG net.sf.jnati.deploy.artefact.ConfigManager  - Loading instance defaults: jar:file:/home/schema/work/bin/lib/PPS-tool-box-0.3.1-jar-with-dependencies.jar!/META-INF/jnati/jnati.instance.default-properties\n",
      "8    [main] INFO  net.sf.jnati.deploy.repository.ClasspathRepository  - Searching classpath for: jniinchi-1.03_1-LINUX-AMD64\n",
      "9    [main] INFO  net.sf.jnati.deploy.repository.LocalRepository  - Searching local repository for: jniinchi-1.03_1-LINUX-AMD64\n",
      "9    [main] DEBUG net.sf.jnati.deploy.repository.LocalRepository  - Artefact path: /home/schema/.jnati/repo/jniinchi/1.03_1/LINUX-AMD64\n",
      "10   [main] INFO  net.sf.jnati.deploy.artefact.ManifestReader  - Reading manifest\n",
      "104  [main] INFO  net.sf.jnati.deploy.NativeArtefactLocator  - Artefact (jniinchi-1.03_1-LINUX-AMD64) location: /home/schema/.jnati/repo/jniinchi/1.03_1/LINUX-AMD64\n",
      "105  [main] DEBUG net.sf.jnati.deploy.NativeLibraryLoader  - Loading library: /home/schema/.jnati/repo/jniinchi/1.03_1/LINUX-AMD64/libJniInchi-1.03_1-LINUX-AMD64.so\n",
      "\n"
     ]
    }
   ],
   "source": [
    "import subprocess\n",
    "NORMCOMPOUNDS = f'{TEMP}/normcompounds.tsv'\n",
    "STANDARDIZE = f'{BIN}/standardize'\n",
    "\n",
    "command = f'{STANDARDIZE} -s cutCoA -f 3 -o {NORMCOMPOUNDS} {RAWCOMPOUNDS}'\n",
    "ran = subprocess.run(command.split(), capture_output=True)\n",
    "print(ran.stdout.decode())"
   ]
  },
  {
   "cell_type": "code",
   "execution_count": 8,
   "metadata": {},
   "outputs": [
    {
     "data": {
      "text/html": [
       "<div>\n",
       "<style scoped>\n",
       "    .dataframe tbody tr th:only-of-type {\n",
       "        vertical-align: middle;\n",
       "    }\n",
       "\n",
       "    .dataframe tbody tr th {\n",
       "        vertical-align: top;\n",
       "    }\n",
       "\n",
       "    .dataframe thead th {\n",
       "        text-align: right;\n",
       "    }\n",
       "</style>\n",
       "<table border=\"1\" class=\"dataframe\">\n",
       "  <thead>\n",
       "    <tr style=\"text-align: right;\">\n",
       "      <th></th>\n",
       "      <th>sid</th>\n",
       "      <th>cid</th>\n",
       "      <th>smiles</th>\n",
       "    </tr>\n",
       "  </thead>\n",
       "  <tbody>\n",
       "    <tr>\n",
       "      <th>0</th>\n",
       "      <td>8d63dbac-227d-4898-86fe-b19bf6683e84</td>\n",
       "      <td>3a797060-38fa-4661-8603-48773b3aff58</td>\n",
       "      <td>C1=CC2=C(C=C1)C3=C(C=C[C@@H]([C@@H]3O)O)C2</td>\n",
       "    </tr>\n",
       "    <tr>\n",
       "      <th>1</th>\n",
       "      <td>8723c215-b1e7-4719-9aa0-d4c1c85a0269</td>\n",
       "      <td>60de31b0-a3c3-4739-9f88-7c5c78a14a76</td>\n",
       "      <td>C=C(C)[C@H]1CC=C(C)CC1</td>\n",
       "    </tr>\n",
       "    <tr>\n",
       "      <th>2</th>\n",
       "      <td>5f574ab2-4990-4548-81e7-16bb217447ac</td>\n",
       "      <td>e4fe0464-864c-4cb3-9587-5a82d6dc67fa</td>\n",
       "      <td>CC1(C)C2CCC1(C)C(=O)C2</td>\n",
       "    </tr>\n",
       "    <tr>\n",
       "      <th>3</th>\n",
       "      <td>794de362-0e07-4a9d-a447-55dc59318b1f</td>\n",
       "      <td>04466823-ecf7-4dbd-9a81-ea0bf8e40dcc</td>\n",
       "      <td>CC(C)[C@@H]1CC[C@@H](C)CC1O</td>\n",
       "    </tr>\n",
       "    <tr>\n",
       "      <th>4</th>\n",
       "      <td>7640df0d-0730-4354-ad81-dfc6d668a81e</td>\n",
       "      <td>ff1575d1-ebba-4d8b-b5db-f4bae1049779</td>\n",
       "      <td>CC(C)[C@@H]1CC[C@@H](C)CC1=O</td>\n",
       "    </tr>\n",
       "  </tbody>\n",
       "</table>\n",
       "</div>"
      ],
      "text/plain": [
       "                                    sid                                   cid  \\\n",
       "0  8d63dbac-227d-4898-86fe-b19bf6683e84  3a797060-38fa-4661-8603-48773b3aff58   \n",
       "1  8723c215-b1e7-4719-9aa0-d4c1c85a0269  60de31b0-a3c3-4739-9f88-7c5c78a14a76   \n",
       "2  5f574ab2-4990-4548-81e7-16bb217447ac  e4fe0464-864c-4cb3-9587-5a82d6dc67fa   \n",
       "3  794de362-0e07-4a9d-a447-55dc59318b1f  04466823-ecf7-4dbd-9a81-ea0bf8e40dcc   \n",
       "4  7640df0d-0730-4354-ad81-dfc6d668a81e  ff1575d1-ebba-4d8b-b5db-f4bae1049779   \n",
       "\n",
       "                                       smiles  \n",
       "0  C1=CC2=C(C=C1)C3=C(C=C[C@@H]([C@@H]3O)O)C2  \n",
       "1                      C=C(C)[C@H]1CC=C(C)CC1  \n",
       "2                      CC1(C)C2CCC1(C)C(=O)C2  \n",
       "3                 CC(C)[C@@H]1CC[C@@H](C)CC1O  \n",
       "4                CC(C)[C@@H]1CC[C@@H](C)CC1=O  "
      ]
     },
     "execution_count": 8,
     "metadata": {},
     "output_type": "execute_result"
    }
   ],
   "source": [
    "normcompounds = read_csv(NORMCOMPOUNDS, sep=\"\\t\", header=None, names=['sid', 'cid', 'smiles'])\n",
    "normcompounds.head()"
   ]
  },
  {
   "cell_type": "markdown",
   "metadata": {},
   "source": [
    "#### Upload normalized SMILES to the database"
   ]
  },
  {
   "cell_type": "code",
   "execution_count": 9,
   "metadata": {},
   "outputs": [],
   "source": [
    "from sqlalchemy.exc import IntegrityError\n",
    "for smiles in normcompounds.smiles.values:\n",
    "    try:\n",
    "        rradb.execute(f\"insert into nsmiles (smiles) values ('{smiles}')\")\n",
    "    except IntegrityError:\n",
    "        pass"
   ]
  },
  {
   "cell_type": "markdown",
   "metadata": {},
   "source": [
    "#### Remark\n",
    "Because of the removal of co-enzyme A, it is possible that multiple compounds have a common normalized SMILES."
   ]
  },
  {
   "cell_type": "code",
   "execution_count": 10,
   "metadata": {},
   "outputs": [
    {
     "data": {
      "text/html": [
       "<div>\n",
       "<style scoped>\n",
       "    .dataframe tbody tr th:only-of-type {\n",
       "        vertical-align: middle;\n",
       "    }\n",
       "\n",
       "    .dataframe tbody tr th {\n",
       "        vertical-align: top;\n",
       "    }\n",
       "\n",
       "    .dataframe thead th {\n",
       "        text-align: right;\n",
       "    }\n",
       "</style>\n",
       "<table border=\"1\" class=\"dataframe\">\n",
       "  <thead>\n",
       "    <tr style=\"text-align: right;\">\n",
       "      <th></th>\n",
       "      <th>sid</th>\n",
       "      <th>cid</th>\n",
       "    </tr>\n",
       "    <tr>\n",
       "      <th>smiles</th>\n",
       "      <th></th>\n",
       "      <th></th>\n",
       "    </tr>\n",
       "  </thead>\n",
       "  <tbody>\n",
       "    <tr>\n",
       "      <th>C1=C(C=CC(=C1)F)C(=O)[O-]</th>\n",
       "      <td>3</td>\n",
       "      <td>3</td>\n",
       "    </tr>\n",
       "    <tr>\n",
       "      <th>C1=COC(=C1)C(=O)[O-]</th>\n",
       "      <td>3</td>\n",
       "      <td>3</td>\n",
       "    </tr>\n",
       "    <tr>\n",
       "      <th>CC(=CCCC(C)CC(=O)[O-])C</th>\n",
       "      <td>3</td>\n",
       "      <td>3</td>\n",
       "    </tr>\n",
       "    <tr>\n",
       "      <th>C1=CC=C(C=C1)C(=O)CC(=O)[O-]</th>\n",
       "      <td>3</td>\n",
       "      <td>3</td>\n",
       "    </tr>\n",
       "    <tr>\n",
       "      <th>C1=CSC(=C1)C(=O)[O-]</th>\n",
       "      <td>3</td>\n",
       "      <td>3</td>\n",
       "    </tr>\n",
       "  </tbody>\n",
       "</table>\n",
       "</div>"
      ],
      "text/plain": [
       "                              sid  cid\n",
       "smiles                                \n",
       "C1=C(C=CC(=C1)F)C(=O)[O-]       3    3\n",
       "C1=COC(=C1)C(=O)[O-]            3    3\n",
       "CC(=CCCC(C)CC(=O)[O-])C         3    3\n",
       "C1=CC=C(C=C1)C(=O)CC(=O)[O-]    3    3\n",
       "C1=CSC(=C1)C(=O)[O-]            3    3"
      ]
     },
     "execution_count": 10,
     "metadata": {},
     "output_type": "execute_result"
    }
   ],
   "source": [
    "normcompounds.groupby('smiles').count().sort_values('cid').tail()"
   ]
  },
  {
   "cell_type": "markdown",
   "metadata": {},
   "source": [
    "#### Add Database IDs"
   ]
  },
  {
   "cell_type": "code",
   "execution_count": 11,
   "metadata": {},
   "outputs": [
    {
     "data": {
      "text/html": [
       "<div>\n",
       "<style scoped>\n",
       "    .dataframe tbody tr th:only-of-type {\n",
       "        vertical-align: middle;\n",
       "    }\n",
       "\n",
       "    .dataframe tbody tr th {\n",
       "        vertical-align: top;\n",
       "    }\n",
       "\n",
       "    .dataframe thead th {\n",
       "        text-align: right;\n",
       "    }\n",
       "</style>\n",
       "<table border=\"1\" class=\"dataframe\">\n",
       "  <thead>\n",
       "    <tr style=\"text-align: right;\">\n",
       "      <th></th>\n",
       "      <th>sid</th>\n",
       "      <th>cid</th>\n",
       "      <th>smiles</th>\n",
       "      <th>id</th>\n",
       "    </tr>\n",
       "  </thead>\n",
       "  <tbody>\n",
       "    <tr>\n",
       "      <th>0</th>\n",
       "      <td>8d63dbac-227d-4898-86fe-b19bf6683e84</td>\n",
       "      <td>3a797060-38fa-4661-8603-48773b3aff58</td>\n",
       "      <td>C1=CC2=C(C=C1)C3=C(C=C[C@@H]([C@@H]3O)O)C2</td>\n",
       "      <td>1</td>\n",
       "    </tr>\n",
       "    <tr>\n",
       "      <th>1</th>\n",
       "      <td>8723c215-b1e7-4719-9aa0-d4c1c85a0269</td>\n",
       "      <td>60de31b0-a3c3-4739-9f88-7c5c78a14a76</td>\n",
       "      <td>C=C(C)[C@H]1CC=C(C)CC1</td>\n",
       "      <td>2</td>\n",
       "    </tr>\n",
       "    <tr>\n",
       "      <th>2</th>\n",
       "      <td>5f574ab2-4990-4548-81e7-16bb217447ac</td>\n",
       "      <td>e4fe0464-864c-4cb3-9587-5a82d6dc67fa</td>\n",
       "      <td>CC1(C)C2CCC1(C)C(=O)C2</td>\n",
       "      <td>3</td>\n",
       "    </tr>\n",
       "    <tr>\n",
       "      <th>3</th>\n",
       "      <td>794de362-0e07-4a9d-a447-55dc59318b1f</td>\n",
       "      <td>04466823-ecf7-4dbd-9a81-ea0bf8e40dcc</td>\n",
       "      <td>CC(C)[C@@H]1CC[C@@H](C)CC1O</td>\n",
       "      <td>4</td>\n",
       "    </tr>\n",
       "    <tr>\n",
       "      <th>4</th>\n",
       "      <td>7640df0d-0730-4354-ad81-dfc6d668a81e</td>\n",
       "      <td>ff1575d1-ebba-4d8b-b5db-f4bae1049779</td>\n",
       "      <td>CC(C)[C@@H]1CC[C@@H](C)CC1=O</td>\n",
       "      <td>5</td>\n",
       "    </tr>\n",
       "  </tbody>\n",
       "</table>\n",
       "</div>"
      ],
      "text/plain": [
       "                                    sid                                   cid  \\\n",
       "0  8d63dbac-227d-4898-86fe-b19bf6683e84  3a797060-38fa-4661-8603-48773b3aff58   \n",
       "1  8723c215-b1e7-4719-9aa0-d4c1c85a0269  60de31b0-a3c3-4739-9f88-7c5c78a14a76   \n",
       "2  5f574ab2-4990-4548-81e7-16bb217447ac  e4fe0464-864c-4cb3-9587-5a82d6dc67fa   \n",
       "3  794de362-0e07-4a9d-a447-55dc59318b1f  04466823-ecf7-4dbd-9a81-ea0bf8e40dcc   \n",
       "4  7640df0d-0730-4354-ad81-dfc6d668a81e  ff1575d1-ebba-4d8b-b5db-f4bae1049779   \n",
       "\n",
       "                                       smiles  id  \n",
       "0  C1=CC2=C(C=C1)C3=C(C=C[C@@H]([C@@H]3O)O)C2   1  \n",
       "1                      C=C(C)[C@H]1CC=C(C)CC1   2  \n",
       "2                      CC1(C)C2CCC1(C)C(=O)C2   3  \n",
       "3                 CC(C)[C@@H]1CC[C@@H](C)CC1O   4  \n",
       "4                CC(C)[C@@H]1CC[C@@H](C)CC1=O   5  "
      ]
     },
     "execution_count": 11,
     "metadata": {},
     "output_type": "execute_result"
    }
   ],
   "source": [
    "from pandas import read_sql\n",
    "nsmiles = read_sql('select * from nsmiles', rradb)\n",
    "normcompounds = normcompounds.merge(nsmiles, on='smiles')\n",
    "normcompounds.head()"
   ]
  },
  {
   "cell_type": "code",
   "execution_count": 12,
   "metadata": {},
   "outputs": [
    {
     "data": {
      "text/plain": [
       "(1507, 3)"
      ]
     },
     "execution_count": 12,
     "metadata": {},
     "output_type": "execute_result"
    }
   ],
   "source": [
    "structures.shape"
   ]
  },
  {
   "cell_type": "markdown",
   "metadata": {},
   "source": [
    "#### Structure &rarr; Compound Standardization\n",
    "A mentioned above, a database compound may have alternative structures. To store the information that these structures belong to the same equivalence class the `compound group identifier` is used to create a link between alternative structures.<br>\n",
    "Since the equivalence classes are built from the `standards` table in the second step of the workflow, the link between alternative structures is entered into that table as well, even though there is no standardization routine applied.<br>\n",
    "The `standardizer` value for these links is `compound`."
   ]
  },
  {
   "cell_type": "code",
   "execution_count": 13,
   "metadata": {},
   "outputs": [
    {
     "data": {
      "text/plain": [
       "((1507, 6), (1507, 6))"
      ]
     },
     "execution_count": 13,
     "metadata": {},
     "output_type": "execute_result"
    }
   ],
   "source": [
    "group_representative = normcompounds.cid.drop_duplicates().index\n",
    "structures = structures.merge(normcompounds, on=['sid', 'cid'], suffixes=['_raw', ''])\\\n",
    ".merge(normcompounds.loc[group_representative,['cid','smiles']], on='cid', suffixes=['', '_comp'])\n",
    "structures.shape, structures.drop_duplicates().shape"
   ]
  },
  {
   "cell_type": "code",
   "execution_count": 14,
   "metadata": {},
   "outputs": [
    {
     "data": {
      "text/plain": [
       "11"
      ]
     },
     "execution_count": 14,
     "metadata": {},
     "output_type": "execute_result"
    }
   ],
   "source": [
    "def compsmiles(row):\n",
    "    if row.smiles != row.smiles_comp:\n",
    "        try:\n",
    "            rradb.execute(f'''insert into standards (compound, standardizer, standard)\n",
    "            values (\n",
    "                (select id from nsmiles where smiles = '{row.smiles}'),\n",
    "                (select id from standardizer where name = 'compound'),\n",
    "                (select id from nsmiles where smiles = '{row.smiles_comp}')\n",
    "            )''')\n",
    "            return 1\n",
    "        except IntegrityError:\n",
    "            return 0\n",
    "    else:\n",
    "        return None\n",
    "\n",
    "try:\n",
    "    rradb.execute(\"insert into standardizer (name) values ('compound')\")\n",
    "except IntegrityError:\n",
    "    pass\n",
    "\n",
    "inserts = structures[structures.smiles != structures.smiles_comp].apply(compsmiles, axis=1)\n",
    "sum(inserts) if inserts.shape[0] else None"
   ]
  },
  {
   "cell_type": "markdown",
   "metadata": {},
   "source": [
    "## <a class=\"anchor\" id=\"rules\"></a>Rules  [$\\Uparrow$](#toc)\n",
    "\n",
    "The btrules are part of the EAWAG-BBD package from envipath.org. They are downloaded with the envipath-api Client."
   ]
  },
  {
   "cell_type": "code",
   "execution_count": 15,
   "metadata": {},
   "outputs": [
    {
     "data": {
      "text/html": [
       "<div>\n",
       "<style scoped>\n",
       "    .dataframe tbody tr th:only-of-type {\n",
       "        vertical-align: middle;\n",
       "    }\n",
       "\n",
       "    .dataframe tbody tr th {\n",
       "        vertical-align: top;\n",
       "    }\n",
       "\n",
       "    .dataframe thead th {\n",
       "        text-align: right;\n",
       "    }\n",
       "</style>\n",
       "<table border=\"1\" class=\"dataframe\">\n",
       "  <thead>\n",
       "    <tr style=\"text-align: right;\">\n",
       "      <th></th>\n",
       "      <th>id</th>\n",
       "      <th>identifier</th>\n",
       "      <th>name</th>\n",
       "      <th>reviewStatus</th>\n",
       "    </tr>\n",
       "  </thead>\n",
       "  <tbody>\n",
       "    <tr>\n",
       "      <th>0</th>\n",
       "      <td>https://envipath.org/package/32de3cf4-e3e6-416...</td>\n",
       "      <td>parallel-rule</td>\n",
       "      <td>bt0001</td>\n",
       "      <td>reviewed</td>\n",
       "    </tr>\n",
       "    <tr>\n",
       "      <th>1</th>\n",
       "      <td>https://envipath.org/package/32de3cf4-e3e6-416...</td>\n",
       "      <td>simple-rule</td>\n",
       "      <td>bt0001-3568</td>\n",
       "      <td>reviewed</td>\n",
       "    </tr>\n",
       "    <tr>\n",
       "      <th>2</th>\n",
       "      <td>https://envipath.org/package/32de3cf4-e3e6-416...</td>\n",
       "      <td>parallel-rule</td>\n",
       "      <td>bt0002</td>\n",
       "      <td>reviewed</td>\n",
       "    </tr>\n",
       "    <tr>\n",
       "      <th>3</th>\n",
       "      <td>https://envipath.org/package/32de3cf4-e3e6-416...</td>\n",
       "      <td>simple-rule</td>\n",
       "      <td>bt0002-3673</td>\n",
       "      <td>reviewed</td>\n",
       "    </tr>\n",
       "    <tr>\n",
       "      <th>4</th>\n",
       "      <td>https://envipath.org/package/32de3cf4-e3e6-416...</td>\n",
       "      <td>parallel-rule</td>\n",
       "      <td>bt0003</td>\n",
       "      <td>reviewed</td>\n",
       "    </tr>\n",
       "  </tbody>\n",
       "</table>\n",
       "</div>"
      ],
      "text/plain": [
       "                                                  id     identifier  \\\n",
       "0  https://envipath.org/package/32de3cf4-e3e6-416...  parallel-rule   \n",
       "1  https://envipath.org/package/32de3cf4-e3e6-416...    simple-rule   \n",
       "2  https://envipath.org/package/32de3cf4-e3e6-416...  parallel-rule   \n",
       "3  https://envipath.org/package/32de3cf4-e3e6-416...    simple-rule   \n",
       "4  https://envipath.org/package/32de3cf4-e3e6-416...  parallel-rule   \n",
       "\n",
       "          name reviewStatus  \n",
       "0       bt0001     reviewed  \n",
       "1  bt0001-3568     reviewed  \n",
       "2       bt0002     reviewed  \n",
       "3  bt0002-3673     reviewed  \n",
       "4       bt0003     reviewed  "
      ]
     },
     "execution_count": 15,
     "metadata": {},
     "output_type": "execute_result"
    }
   ],
   "source": [
    "from pandas import DataFrame\n",
    "BBD = client.findpackage('EAWAG-BBD')\n",
    "bbdrules = DataFrame(client.get(f'{BBD}/rule')['rule'])\n",
    "bbdrules.head()"
   ]
  },
  {
   "cell_type": "markdown",
   "metadata": {},
   "source": [
    "In EAWAG-BBD all \"simple\" rules are grouped into \"parallel\" rules, which combine the individual SMIRKS to one _btrule_.<br>\n",
    "Only the \"simple\" rules are active in the prediction and have a SMIRKS string encoding  reaction patterns."
   ]
  },
  {
   "cell_type": "code",
   "execution_count": 16,
   "metadata": {},
   "outputs": [
    {
     "name": "stderr",
     "output_type": "stream",
     "text": [
      "100%|██████████| 291/291 [00:16<00:00, 17.57it/s]\n"
     ]
    },
    {
     "data": {
      "text/html": [
       "<div>\n",
       "<style scoped>\n",
       "    .dataframe tbody tr th:only-of-type {\n",
       "        vertical-align: middle;\n",
       "    }\n",
       "\n",
       "    .dataframe tbody tr th {\n",
       "        vertical-align: top;\n",
       "    }\n",
       "\n",
       "    .dataframe thead th {\n",
       "        text-align: right;\n",
       "    }\n",
       "</style>\n",
       "<table border=\"1\" class=\"dataframe\">\n",
       "  <thead>\n",
       "    <tr style=\"text-align: right;\">\n",
       "      <th></th>\n",
       "      <th>id</th>\n",
       "      <th>name</th>\n",
       "      <th>smirks</th>\n",
       "      <th>substrateFilter</th>\n",
       "      <th>productFilter</th>\n",
       "      <th>container</th>\n",
       "    </tr>\n",
       "  </thead>\n",
       "  <tbody>\n",
       "    <tr>\n",
       "      <th>490</th>\n",
       "      <td>https://envipath.org/package/32de3cf4-e3e6-416...</td>\n",
       "      <td>bt0438-4230</td>\n",
       "      <td>[#8-:11]-[#6:9](=[O:10])-[#6:1]([H])([H])-[c:2...</td>\n",
       "      <td></td>\n",
       "      <td></td>\n",
       "      <td>https://envipath.org/package/32de3cf4-e3e6-416...</td>\n",
       "    </tr>\n",
       "    <tr>\n",
       "      <th>492</th>\n",
       "      <td>https://envipath.org/package/32de3cf4-e3e6-416...</td>\n",
       "      <td>bt0439-4270</td>\n",
       "      <td>[H:14][C:3]([#1,#6;A:13])([#6:10](-[#8-:11])=[...</td>\n",
       "      <td></td>\n",
       "      <td></td>\n",
       "      <td>https://envipath.org/package/32de3cf4-e3e6-416...</td>\n",
       "    </tr>\n",
       "    <tr>\n",
       "      <th>494</th>\n",
       "      <td>https://envipath.org/package/32de3cf4-e3e6-416...</td>\n",
       "      <td>bt0440-4255</td>\n",
       "      <td>[#7:1][P:2]([#6,#7,#8,#16:4])([#6,#8:5])=[#8,#...</td>\n",
       "      <td></td>\n",
       "      <td></td>\n",
       "      <td>https://envipath.org/package/32de3cf4-e3e6-416...</td>\n",
       "    </tr>\n",
       "    <tr>\n",
       "      <th>496</th>\n",
       "      <td>https://envipath.org/package/32de3cf4-e3e6-416...</td>\n",
       "      <td>bt0443-4291</td>\n",
       "      <td>[#6:5]-[#6:1]([H])(-[#8:2]([H]))C#N&gt;&gt;[#6:5]-[#...</td>\n",
       "      <td></td>\n",
       "      <td></td>\n",
       "      <td>https://envipath.org/package/32de3cf4-e3e6-416...</td>\n",
       "    </tr>\n",
       "    <tr>\n",
       "      <th>498</th>\n",
       "      <td>https://envipath.org/package/32de3cf4-e3e6-416...</td>\n",
       "      <td>bt0444-4310</td>\n",
       "      <td>[H][#6:3](-[#6:2](-[#7:1]([H])-[#6:7](-[#6:9]-...</td>\n",
       "      <td></td>\n",
       "      <td></td>\n",
       "      <td>https://envipath.org/package/32de3cf4-e3e6-416...</td>\n",
       "    </tr>\n",
       "  </tbody>\n",
       "</table>\n",
       "</div>"
      ],
      "text/plain": [
       "                                                    id         name  \\\n",
       "490  https://envipath.org/package/32de3cf4-e3e6-416...  bt0438-4230   \n",
       "492  https://envipath.org/package/32de3cf4-e3e6-416...  bt0439-4270   \n",
       "494  https://envipath.org/package/32de3cf4-e3e6-416...  bt0440-4255   \n",
       "496  https://envipath.org/package/32de3cf4-e3e6-416...  bt0443-4291   \n",
       "498  https://envipath.org/package/32de3cf4-e3e6-416...  bt0444-4310   \n",
       "\n",
       "                                                smirks substrateFilter  \\\n",
       "490  [#8-:11]-[#6:9](=[O:10])-[#6:1]([H])([H])-[c:2...                   \n",
       "492  [H:14][C:3]([#1,#6;A:13])([#6:10](-[#8-:11])=[...                   \n",
       "494  [#7:1][P:2]([#6,#7,#8,#16:4])([#6,#8:5])=[#8,#...                   \n",
       "496  [#6:5]-[#6:1]([H])(-[#8:2]([H]))C#N>>[#6:5]-[#...                   \n",
       "498  [H][#6:3](-[#6:2](-[#7:1]([H])-[#6:7](-[#6:9]-...                   \n",
       "\n",
       "    productFilter                                          container  \n",
       "490                https://envipath.org/package/32de3cf4-e3e6-416...  \n",
       "492                https://envipath.org/package/32de3cf4-e3e6-416...  \n",
       "494                https://envipath.org/package/32de3cf4-e3e6-416...  \n",
       "496                https://envipath.org/package/32de3cf4-e3e6-416...  \n",
       "498                https://envipath.org/package/32de3cf4-e3e6-416...  "
      ]
     },
     "execution_count": 16,
     "metadata": {},
     "output_type": "execute_result"
    }
   ],
   "source": [
    "from tqdm import tqdm\n",
    "tqdm.pandas()\n",
    "\n",
    "\n",
    "from pandas import Series\n",
    "exceptions = []\n",
    "def annotate_rule(row):\n",
    "    try:\n",
    "        rule = client.get(row.id)\n",
    "        return Series({\n",
    "            'smirks':rule['smirks'],\n",
    "            'substrateFilter':rule.get('reactantFilterSmarts'),\n",
    "            'productFilter':rule.get('productFilterSmarts'),\n",
    "            'container':[cr['id'] for cr in rule.get('includedInCompositeRule') if cr['id'][:66] == row.id[:][:66]][0]\n",
    "        })\n",
    "    except Exception as e:\n",
    "        exceptions.append([row.id, e.__class__.__name__, str(e)])\n",
    "\n",
    "ANNOT_RULES = f'{TEMP}/envipath-rules.annotated.tsv'\n",
    "try:\n",
    "    rules\n",
    "except NameError:\n",
    "    try:\n",
    "        rules = read_csv(ANNOT_RULES, sep='\\t')\n",
    "    except FileNotFoundError:\n",
    "        rules = bbdrules[bbdrules.identifier == 'simple-rule'].loc[:,['id', 'name']]\n",
    "        rules = rules.join(rules.progress_apply(annotate_rule, axis=1))\n",
    "rules.tail()"
   ]
  },
  {
   "cell_type": "markdown",
   "metadata": {},
   "source": [
    "#### Unique rule names\n",
    "The workflow assumes unique rule names. Otherwise there will be inconsistencies."
   ]
  },
  {
   "cell_type": "code",
   "execution_count": 17,
   "metadata": {},
   "outputs": [],
   "source": [
    "assert rules.name.nunique() == rules.shape[0]"
   ]
  },
  {
   "cell_type": "markdown",
   "metadata": {},
   "source": [
    "#### Write rules to file\n",
    "Two files are created, envipath-rules.tsv, which is used in the prediction step, and envipath-rules.annotated.tsv containing additional information for later reference.<br>\n",
    "envipath-rules.tsv contains only \"simple\" rules."
   ]
  },
  {
   "cell_type": "code",
   "execution_count": 18,
   "metadata": {},
   "outputs": [
    {
     "data": {
      "text/html": [
       "<div>\n",
       "<style scoped>\n",
       "    .dataframe tbody tr th:only-of-type {\n",
       "        vertical-align: middle;\n",
       "    }\n",
       "\n",
       "    .dataframe tbody tr th {\n",
       "        vertical-align: top;\n",
       "    }\n",
       "\n",
       "    .dataframe thead th {\n",
       "        text-align: right;\n",
       "    }\n",
       "</style>\n",
       "<table border=\"1\" class=\"dataframe\">\n",
       "  <thead>\n",
       "    <tr style=\"text-align: right;\">\n",
       "      <th></th>\n",
       "      <th>0</th>\n",
       "      <th>1</th>\n",
       "    </tr>\n",
       "  </thead>\n",
       "  <tbody>\n",
       "    <tr>\n",
       "      <th>0</th>\n",
       "      <td>bt0001-3568</td>\n",
       "      <td>[H][#8:2][C:1]([H:5])([H])[#1,#6:6]&gt;&gt;[H:5][#6:...</td>\n",
       "    </tr>\n",
       "    <tr>\n",
       "      <th>1</th>\n",
       "      <td>bt0002-3673</td>\n",
       "      <td>[H][#8:1][#6;A;!$(CCC(O)[O-]):2]([H])([#6:5])[...</td>\n",
       "    </tr>\n",
       "    <tr>\n",
       "      <th>2</th>\n",
       "      <td>bt0003-1196</td>\n",
       "      <td>[H][#6:1](-[#6:5])=[O:4]&gt;&gt;[#6:5]-[#6:1](-[#8-]...</td>\n",
       "    </tr>\n",
       "    <tr>\n",
       "      <th>3</th>\n",
       "      <td>bt0005-3667</td>\n",
       "      <td>[#8:7]([H])-[#6:1]([H])-1-[#6:2]=[#6:3]-[#6:4]...</td>\n",
       "    </tr>\n",
       "    <tr>\n",
       "      <th>4</th>\n",
       "      <td>bt0005-3776</td>\n",
       "      <td>[c:7]([H])1[c:8]([H])[c:9]([H])[c:10]2[c:11]([...</td>\n",
       "    </tr>\n",
       "  </tbody>\n",
       "</table>\n",
       "</div>"
      ],
      "text/plain": [
       "             0                                                  1\n",
       "0  bt0001-3568  [H][#8:2][C:1]([H:5])([H])[#1,#6:6]>>[H:5][#6:...\n",
       "1  bt0002-3673  [H][#8:1][#6;A;!$(CCC(O)[O-]):2]([H])([#6:5])[...\n",
       "2  bt0003-1196  [H][#6:1](-[#6:5])=[O:4]>>[#6:5]-[#6:1](-[#8-]...\n",
       "3  bt0005-3667  [#8:7]([H])-[#6:1]([H])-1-[#6:2]=[#6:3]-[#6:4]...\n",
       "4  bt0005-3776  [c:7]([H])1[c:8]([H])[c:9]([H])[c:10]2[c:11]([..."
      ]
     },
     "execution_count": 18,
     "metadata": {},
     "output_type": "execute_result"
    }
   ],
   "source": [
    "rules.to_csv(ANNOT_RULES, sep=\"\\t\", index=None)\n",
    "RULES = f'{TEMP}/envipath-rules.tsv'\n",
    "rules.loc[:,['name','smirks']].to_csv(RULES, sep=\"\\t\", index=None, header=None)\n",
    "read_csv(RULES, sep=\"\\t\", header=None).head()"
   ]
  },
  {
   "cell_type": "markdown",
   "metadata": {},
   "source": [
    "#### Insert Rules into Database\n",
    "The database is used for tracking the predicted reactions and not for the prediction itself. Hence the rules table of the database is not required to contain the SMIRKS strings of the rules.<br>\n",
    "But opposite to envipath-rules.tsv, it contains the information about the _btrule_ to which the simple rule belongs."
   ]
  },
  {
   "cell_type": "code",
   "execution_count": 19,
   "metadata": {},
   "outputs": [],
   "source": [
    "def splitrule(r):\n",
    "    a = r.split('-')\n",
    "    return Series({'container':'-'.join(a[:-1]),'simple':a[-1]})\n",
    "rulecontainers = rules.apply(lambda row: splitrule(row['name']), axis=1)\n",
    "rulecontainers.to_csv(f'{TEMP}/importrules.csv', header=None, index=None)\n",
    "rulecontainers.loc[:,['container','container']].drop_duplicates().to_csv(f'{TEMP}/importrulecontainers.csv', header=None, index=None)"
   ]
  },
  {
   "cell_type": "code",
   "execution_count": 20,
   "metadata": {},
   "outputs": [],
   "source": [
    "rule_import_df = read_csv(f'{TEMP}/importrulecontainers.csv', header=None)\\\n",
    "         .append(read_csv(f'{TEMP}/importrules.csv', header=None, dtype=str))\n",
    "rule_import_df.columns = ['container', 'simple']\n",
    "rule_import_df = rule_import_df.merge(\n",
    "    read_sql('select * from rule', rradb),\n",
    "    on=['container', 'simple'], how='left')\n",
    "rule_import_df[rule_import_df.id.isnull()]\\\n",
    "    .loc[:,['container', 'simple']]\\\n",
    "    .to_sql('rule', rradb, index=None, if_exists='append', method='multi')"
   ]
  },
  {
   "cell_type": "markdown",
   "metadata": {},
   "source": [
    "## <a class=\"anchor\" id=\"reactions\"></a>Reactions  [$\\Uparrow$](#toc)\n",
    "\n",
    "Reaction input data is read from a tab separated text file (reactions.tsv) which has 3 columns:\n",
    "- substrate SMILES\n",
    "- reaction identifier\n",
    "- product SMILES\n",
    "\n",
    "Both substrates and products can contain multiple molecules, in which case the individual SMILES are separated by a '.' in accordance with Daylight's SMILES syntax.\n",
    "\n",
    "#### Normalization\n",
    "Analogously to the compound import, CoA is removed from all substrates and products."
   ]
  },
  {
   "cell_type": "code",
   "execution_count": 21,
   "metadata": {},
   "outputs": [
    {
     "name": "stdout",
     "output_type": "stream",
     "text": [
      "0    [main] INFO  net.sf.jnati.deploy.artefact.ConfigManager  - Loading global configuration\n",
      "4    [main] DEBUG net.sf.jnati.deploy.artefact.ConfigManager  - Loading defaults: jar:file:/home/schema/work/bin/lib/PPS-tool-box-0.3.1-jar-with-dependencies.jar!/META-INF/jnati/jnati.default-properties\n",
      "5    [main] INFO  net.sf.jnati.deploy.artefact.ConfigManager  - Loading artefact configuration: jniinchi-1.03_1\n",
      "6    [main] DEBUG net.sf.jnati.deploy.artefact.ConfigManager  - Loading instance defaults: jar:file:/home/schema/work/bin/lib/PPS-tool-box-0.3.1-jar-with-dependencies.jar!/META-INF/jnati/jnati.instance.default-properties\n",
      "8    [main] INFO  net.sf.jnati.deploy.repository.ClasspathRepository  - Searching classpath for: jniinchi-1.03_1-LINUX-AMD64\n",
      "10   [main] INFO  net.sf.jnati.deploy.repository.LocalRepository  - Searching local repository for: jniinchi-1.03_1-LINUX-AMD64\n",
      "10   [main] DEBUG net.sf.jnati.deploy.repository.LocalRepository  - Artefact path: /home/schema/.jnati/repo/jniinchi/1.03_1/LINUX-AMD64\n",
      "11   [main] INFO  net.sf.jnati.deploy.artefact.ManifestReader  - Reading manifest\n",
      "104  [main] INFO  net.sf.jnati.deploy.NativeArtefactLocator  - Artefact (jniinchi-1.03_1-LINUX-AMD64) location: /home/schema/.jnati/repo/jniinchi/1.03_1/LINUX-AMD64\n",
      "104  [main] DEBUG net.sf.jnati.deploy.NativeLibraryLoader  - Loading library: /home/schema/.jnati/repo/jniinchi/1.03_1/LINUX-AMD64/libJniInchi-1.03_1-LINUX-AMD64.so\n",
      "\n"
     ]
    }
   ],
   "source": [
    "RAWREACTIONS = f'{DATA}/{DATASET}_reactions.tsv'\n",
    "NORMREACTIONS = f'{DATA}/{DATASET}_normreactions.tsv'\n",
    "STANDARDIZE = f'{BIN}/standardize'\n",
    "\n",
    "command = f'{STANDARDIZE} -s cutCoA -f 1,3 -o {NORMREACTIONS} {RAWREACTIONS}'\n",
    "ran = subprocess.run(command.split(), capture_output=True)\n",
    "print(ran.stdout.decode())"
   ]
  },
  {
   "cell_type": "code",
   "execution_count": 22,
   "metadata": {},
   "outputs": [
    {
     "name": "stdout",
     "output_type": "stream",
     "text": [
      "(1479, 3)\n"
     ]
    },
    {
     "data": {
      "text/html": [
       "<div>\n",
       "<style scoped>\n",
       "    .dataframe tbody tr th:only-of-type {\n",
       "        vertical-align: middle;\n",
       "    }\n",
       "\n",
       "    .dataframe tbody tr th {\n",
       "        vertical-align: top;\n",
       "    }\n",
       "\n",
       "    .dataframe thead th {\n",
       "        text-align: right;\n",
       "    }\n",
       "</style>\n",
       "<table border=\"1\" class=\"dataframe\">\n",
       "  <thead>\n",
       "    <tr style=\"text-align: right;\">\n",
       "      <th></th>\n",
       "      <th>substrates</th>\n",
       "      <th>reaction</th>\n",
       "      <th>products</th>\n",
       "    </tr>\n",
       "  </thead>\n",
       "  <tbody>\n",
       "    <tr>\n",
       "      <th>0</th>\n",
       "      <td>C1=C(C=CC(=C1)O)C(C2=CC=C(C=C2)O)O</td>\n",
       "      <td>00549813-a13d-442f-a963-1b146cfb2df5</td>\n",
       "      <td>C1=C(C=CC(=C1)O)C(=O)C2=CC=C(C=C2)O</td>\n",
       "    </tr>\n",
       "    <tr>\n",
       "      <th>1</th>\n",
       "      <td>C1=CC=C(C=C1)OC2=CC(=CC=C2)C(C#N)O</td>\n",
       "      <td>0066b7c0-544b-47fd-9b93-8a8b275adead</td>\n",
       "      <td>C1=CC=C(C=C1)OC2=CC(=CC=C2)C=O</td>\n",
       "    </tr>\n",
       "    <tr>\n",
       "      <th>2</th>\n",
       "      <td>CCCC[Sn+2]CC(CC)O</td>\n",
       "      <td>00a0fe94-d694-4913-866f-1c9253fcc67a</td>\n",
       "      <td>CCC(=O)C.CCCC[Sn+3]</td>\n",
       "    </tr>\n",
       "    <tr>\n",
       "      <th>3</th>\n",
       "      <td>CC1=CC=C(C=C1)C(=O)[O-]</td>\n",
       "      <td>00b9590f-c0c9-4506-ab7e-52d73364d996</td>\n",
       "      <td>CC1=C[C@@H]([C@](C=C1)(C(=O)[O-])O)O</td>\n",
       "    </tr>\n",
       "    <tr>\n",
       "      <th>4</th>\n",
       "      <td>C1=C[C@H]([C@H](C(=C1)CCC(=O)[O-])O)O</td>\n",
       "      <td>0104a8a5-b682-4664-9495-52feb2af184a</td>\n",
       "      <td>C1=CC(=C(C(=C1)CCC(=O)[O-])O)O</td>\n",
       "    </tr>\n",
       "  </tbody>\n",
       "</table>\n",
       "</div>"
      ],
      "text/plain": [
       "                              substrates  \\\n",
       "0     C1=C(C=CC(=C1)O)C(C2=CC=C(C=C2)O)O   \n",
       "1     C1=CC=C(C=C1)OC2=CC(=CC=C2)C(C#N)O   \n",
       "2                      CCCC[Sn+2]CC(CC)O   \n",
       "3                CC1=CC=C(C=C1)C(=O)[O-]   \n",
       "4  C1=C[C@H]([C@H](C(=C1)CCC(=O)[O-])O)O   \n",
       "\n",
       "                               reaction                              products  \n",
       "0  00549813-a13d-442f-a963-1b146cfb2df5   C1=C(C=CC(=C1)O)C(=O)C2=CC=C(C=C2)O  \n",
       "1  0066b7c0-544b-47fd-9b93-8a8b275adead        C1=CC=C(C=C1)OC2=CC(=CC=C2)C=O  \n",
       "2  00a0fe94-d694-4913-866f-1c9253fcc67a                   CCC(=O)C.CCCC[Sn+3]  \n",
       "3  00b9590f-c0c9-4506-ab7e-52d73364d996  CC1=C[C@@H]([C@](C=C1)(C(=O)[O-])O)O  \n",
       "4  0104a8a5-b682-4664-9495-52feb2af184a        C1=CC(=C(C(=C1)CCC(=O)[O-])O)O  "
      ]
     },
     "execution_count": 22,
     "metadata": {},
     "output_type": "execute_result"
    }
   ],
   "source": [
    "reactions = read_csv(NORMREACTIONS, sep='\\t', header=None, names=['substrates', 'reaction', 'products'])\n",
    "print(reactions.shape)\n",
    "reactions.head()"
   ]
  },
  {
   "cell_type": "markdown",
   "metadata": {},
   "source": [
    "#### Insert Reactions into Database"
   ]
  },
  {
   "cell_type": "code",
   "execution_count": 23,
   "metadata": {},
   "outputs": [],
   "source": [
    "def _split_reaction(reacdf):\n",
    "    roles = []\n",
    "    reaction_labels = []\n",
    "    def splitrow(row):\n",
    "        from re import split\n",
    "        '''\n",
    "        expects a line in this format:\n",
    "        <SMILES[.SMILES]>\\\\t<label|\\\\[label[, \\[label\\]]>\\\\t<SMILES[.SMILES]>\n",
    "        '''\n",
    "        s,l,p = row[0], row[1], row[2]\n",
    "        \n",
    "        substrates = s.split(\".\")\n",
    "        products = p.split(\".\")\n",
    "        for s in substrates:\n",
    "            roles.append([row.name, s, False])\n",
    "        for p in products:\n",
    "            roles.append([row.name, p, True])\n",
    "            \n",
    "        labels = split(r'\\s*,\\s*',l.strip(r\"[\\[\\]]\")) if l[0]==\"[\" and l[-1]==\"]\" else [l]\n",
    "        for label in labels:\n",
    "            reaction_labels.append([row.name, label])\n",
    "    \n",
    "    reacdf.apply(splitrow, axis=1)\n",
    "    \n",
    "    # not drop duplicates on labels but not on roles: A>>B.B != A>>B, but A>L,L>B = A>L>B\n",
    "    return DataFrame(roles, columns=['reacid', 'smiles', 'isproduct']),\\\n",
    "           DataFrame(reaction_labels, columns=['reacid', 'label']).drop_duplicates()\n",
    "\n",
    "\n",
    "def _get_compound_ids(rradb, role_df):\n",
    "    nsmiles = read_sql('''\n",
    "    select id compound, smiles \n",
    "    from nsmiles\n",
    "    ''', rradb)\n",
    "    role_id_df = role_df.merge(nsmiles, on='smiles', how='left')\n",
    "\n",
    "    # insert novel smiles\n",
    "    role_id_df[role_id_df['compound'].isnull()]\\\n",
    "        .loc[:,['smiles']]\\\n",
    "        .drop_duplicates()\\\n",
    "        .to_sql('nsmiles', rradb, index=None, if_exists='append', method='multi')\n",
    "\n",
    "    nsmiles = read_sql('''\n",
    "    select id compound, smiles \n",
    "    from nsmiles\n",
    "    ''', rradb)\n",
    "    role_id_df = role_df.merge(nsmiles, on='smiles', how='left')    \n",
    "    role_id_df['compound'] = role_id_df['compound'].astype(str)\n",
    "    \n",
    "    return role_id_df\n",
    "\n",
    "\n",
    "def _get_reaction_ids(rradb, role_id_df):\n",
    "    educts = role_id_df[~role_id_df.isproduct].groupby('reacid').agg({'compound': ' '.join}).rename(columns={'compound':'substrates'})\n",
    "    products = role_id_df[role_id_df.isproduct].groupby('reacid').agg({'compound': ' '.join}).rename(columns={'compound':'products'})\n",
    "    reaction_df = educts.join(products)\n",
    "    reaction_df['reacid'] = reaction_df.index\n",
    "    reaction_df['signature'] = reaction_df.apply(\n",
    "        lambda row:\n",
    "            db.signature([int(_) for _ in row.substrates.split()], \n",
    "                         [int(_) for _ in row.products.split()]),\n",
    "        axis=1)\n",
    "\n",
    "    reactions = read_sql('''\n",
    "    select id reaction, signature\n",
    "    from reaction\n",
    "    ''', rradb)\n",
    "    reaction_id_df = reaction_df.merge(reactions, on='signature', how='left')\n",
    "\n",
    "    # insert novel reactions\n",
    "    novel_reactions = reaction_id_df[reaction_id_df.reaction.isnull()]\\\n",
    "        .loc[:,['signature']]\\\n",
    "        .drop_duplicates()\\\n",
    "        .copy()\n",
    "    novel_reactions.to_sql('reaction', rradb, index=None, if_exists='append', method='multi')\n",
    "\n",
    "    reactions = read_sql('''\n",
    "    select id reaction, signature\n",
    "    from reaction\n",
    "    ''', rradb)\n",
    "    reaction_id_df = reaction_df.merge(reactions, on='signature', how='left')\n",
    "    \n",
    "    role_id_df.merge(\n",
    "        reaction_id_df[reaction_id_df.signature.isin(novel_reactions.signature)],\n",
    "        on='reacid'\n",
    "    ).loc[:,['compound', 'reaction', 'isproduct']]\\\n",
    "        .to_sql('rrole', rradb, index=None, if_exists='append', method='multi')\n",
    "    \n",
    "    return reaction_id_df"
   ]
  },
  {
   "cell_type": "code",
   "execution_count": 24,
   "metadata": {},
   "outputs": [],
   "source": [
    "def insert_edb_reactions(rradb, reacdf):\n",
    "    role_df, reaction_label_df = _split_reaction(reacdf)\n",
    "\n",
    "    #### reaction role dataframe\n",
    "    role_id_df = _get_compound_ids(rradb, role_df)\n",
    "\n",
    "    #### reaction dataframe\n",
    "    reaction_id_df = _get_reaction_ids(rradb, role_id_df)\n",
    "\n",
    "    # adjust columns\n",
    "    reaction_label_df = reaction_label_df.rename(columns={'label':'envipath_url'})\n",
    "    reaction_label_df['id'] = reaction_label_df.apply(lambda row: f'g{row.reacid:04d}', axis=1)\n",
    "\n",
    "    # insert rule reaction links\n",
    "    edb_reaction_id_df = reaction_label_df\\\n",
    "        .merge(reaction_id_df, on='reacid')\\\n",
    "        .loc[:,['id', 'reaction', 'envipath_url']]\\\n",
    "        .drop_duplicates()\n",
    "    \n",
    "    edb_reactions = read_sql('''\n",
    "    select id, reaction, envipath_url, 1 e\n",
    "    from edb_reaction\n",
    "    ''', rradb)\n",
    "    \n",
    "    edb_reaction_id_df = edb_reaction_id_df\\\n",
    "        .merge(edb_reactions, on=['id', 'reaction', 'envipath_url'], how='left')\n",
    "    edb_reaction_id_df[edb_reaction_id_df.e.isnull()]\\\n",
    "        .loc[:,['id', 'reaction', 'envipath_url']]\\\n",
    "        .to_sql('edb_reaction', rradb, index=None, if_exists='append', method='multi')"
   ]
  },
  {
   "cell_type": "code",
   "execution_count": 25,
   "metadata": {},
   "outputs": [
    {
     "data": {
      "text/html": [
       "<div>\n",
       "<style scoped>\n",
       "    .dataframe tbody tr th:only-of-type {\n",
       "        vertical-align: middle;\n",
       "    }\n",
       "\n",
       "    .dataframe tbody tr th {\n",
       "        vertical-align: top;\n",
       "    }\n",
       "\n",
       "    .dataframe thead th {\n",
       "        text-align: right;\n",
       "    }\n",
       "</style>\n",
       "<table border=\"1\" class=\"dataframe\">\n",
       "  <thead>\n",
       "    <tr style=\"text-align: right;\">\n",
       "      <th></th>\n",
       "      <th>count</th>\n",
       "    </tr>\n",
       "  </thead>\n",
       "  <tbody>\n",
       "    <tr>\n",
       "      <th>0</th>\n",
       "      <td>1479</td>\n",
       "    </tr>\n",
       "  </tbody>\n",
       "</table>\n",
       "</div>"
      ],
      "text/plain": [
       "   count\n",
       "0   1479"
      ]
     },
     "execution_count": 25,
     "metadata": {},
     "output_type": "execute_result"
    }
   ],
   "source": [
    "insert_edb_reactions(rradb, read_csv(NORMREACTIONS, header=None, sep=\"\\t\"))\n",
    "read_sql('select count(*) from edb_reaction', rradb)"
   ]
  },
  {
   "cell_type": "markdown",
   "metadata": {},
   "source": [
    "## <a class=\"anchor\" id=\"standardization\"></a>Standardization  [$\\Uparrow$](#toc)\n",
    "Six different standardization methods are applied, first to all substrates and products of the dataset's reactions and then, after the prediction, to all predicted products.<br>\n",
    "A detailed description of these methods can be found [here](standardization%20methods.ipynb).\n",
    "#### Register the Standardizers in the Database"
   ]
  },
  {
   "cell_type": "code",
   "execution_count": 26,
   "metadata": {},
   "outputs": [],
   "source": [
    "STANDARDIZERS = [\"basic\",\"flatten\",\"enhanced\",\"cistrans\",\"exotic\",\"enolketo\"]\n",
    "for standardizer in STANDARDIZERS:\n",
    "    try:\n",
    "        rradb.execute(f\"insert into standardizer (name) values ('{standardizer}')\")\n",
    "    except IntegrityError:\n",
    "        pass"
   ]
  },
  {
   "cell_type": "markdown",
   "metadata": {},
   "source": [
    "#### Define Standardization Routines"
   ]
  },
  {
   "cell_type": "code",
   "execution_count": 27,
   "metadata": {},
   "outputs": [],
   "source": [
    "def multiprocessing_standardization(smiles_collection, tempdir=TEMP, runb=STANDARDIZE):\n",
    "    if len(list(smiles_collection)) == 0:\n",
    "        return DataFrame(columns=['norm', 'standardized', 'standardizer'])\n",
    "    \n",
    "    std_df = DataFrame({'norm': list(smiles_collection)})\n",
    "    std_df.to_csv(f'{tempdir}/norm.compounds', sep=\"\\t\", header=None)\n",
    "   \n",
    "    standardized_list = []\n",
    "\n",
    "    def assign(row, standardizer):\n",
    "        standardized_list.append({\n",
    "            'id': row.name, 'norm':row.norm, 'standardized': row[1], 'standardizer':standardizer\n",
    "        })\n",
    "    \n",
    "    ps = dict()\n",
    "    for standardizer in STANDARDIZERS:\n",
    "        import os\n",
    "        try:\n",
    "            os.remove(f'{tempdir}/standardized.{standardizer}.compounds.tsv')\n",
    "        except FileNotFoundError:\n",
    "            pass\n",
    "        \n",
    "        command = f'''{runb}\n",
    "            -f 2\n",
    "            -s {standardizer}\n",
    "            -o {tempdir}/standardized.{standardizer}.compounds.tsv\n",
    "            {tempdir}/norm.compounds\n",
    "        '''\n",
    "        ps[standardizer] = {'process': subprocess.Popen(command.split())}\n",
    "    \n",
    "    while any([ps[standardizer].get('rc') == None for standardizer in STANDARDIZERS]):\n",
    "        from time import sleep\n",
    "        sleep(1)\n",
    "        for standardizer in STANDARDIZERS:\n",
    "            ps[standardizer]['rc'] = ps[standardizer]['process'].poll()\n",
    "    \n",
    "    for standardizer in STANDARDIZERS:\n",
    "        stdout, stderr = ps[standardizer]['process'].communicate()\n",
    "        ps[standardizer]['out'] = stdout\n",
    "        ps[standardizer]['err'] = stderr\n",
    "        if ps[standardizer]['rc'] != 0:\n",
    "            raise Exception(ps[standardizer]['err'])\n",
    "        \n",
    "        stds = std_df.join(\n",
    "            read_csv(f'{tempdir}/standardized.{standardizer}.compounds.tsv', sep=\"\\t\", header=None, index_col=0),\n",
    "        )\n",
    "        stds[stds[1].notnull() & (stds.norm!=stds[1])]\\\n",
    "            .apply(\n",
    "                lambda row: assign(row, standardizer),\n",
    "                axis=1\n",
    "            )\n",
    "    \n",
    "    standardized_df = DataFrame(standardized_list).drop_duplicates()\n",
    "    return standardized_df"
   ]
  },
  {
   "cell_type": "code",
   "execution_count": 28,
   "metadata": {},
   "outputs": [],
   "source": [
    "def db_update_all_standards(rradb, stddf):\n",
    "    if not stddf.shape[0]:\n",
    "        return\n",
    "    \n",
    "    standard_smiles = stddf.standardized.drop_duplicates().values\n",
    "\n",
    "    # collect known ids for standardized smiles\n",
    "    present_nsmiles = read_sql(f'''\n",
    "    select id stdid, smiles standardized\n",
    "    from nsmiles\n",
    "    where smiles in ('{\"', '\".join(standard_smiles)}')''', rradb)\n",
    "    stddf_stdid = stddf.merge(present_nsmiles, on='standardized', how='left')\n",
    "\n",
    "    # insert novel smiles\n",
    "    stddf_stdid[stddf_stdid.stdid.isnull()]\\\n",
    "        .rename(columns={'standardized':'smiles','smiles':'nosmiles'})\\\n",
    "        .loc[:,'smiles']\\\n",
    "        .drop_duplicates()\\\n",
    "        .to_sql('nsmiles', rradb, index=None, if_exists='append', method='multi')\n",
    "\n",
    "\n",
    "    # collect known ids for norm smiles\n",
    "    present_nsmiles = read_sql(f'''\n",
    "    select id normid, smiles norm\n",
    "    from nsmiles\n",
    "    where smiles in ('{\"', '\".join(stddf.norm.drop_duplicates().values)}')''', rradb)\n",
    "    stddf_stdid = stddf.merge(present_nsmiles, on='norm', how='left')\n",
    "\n",
    "    # once more collect ids for standardized smiles, now including novel smiles\n",
    "    present_nsmiles = read_sql(f'''\n",
    "    select id stdid, smiles standardized\n",
    "    from nsmiles\n",
    "    where smiles in ('{\"', '\".join(standard_smiles)}')''', rradb)\n",
    "    stddf_stdid = stddf_stdid.merge(present_nsmiles, on='standardized', how='left')\n",
    "\n",
    "    # collect standardizer ids\n",
    "    standardizers = read_sql(f'''\n",
    "    select id stdzrid, name standardizer\n",
    "    from standardizer\n",
    "    ''', rradb)\n",
    "    stddf_stdid = stddf_stdid.merge(standardizers, on='standardizer')\n",
    "\n",
    "\n",
    "    # collect known standardizations\n",
    "    compounds = [str(i) for i in stddf_stdid.normid.drop_duplicates().values]\n",
    "    known_standards = read_sql('''\n",
    "    select compound normid, standard known_standard, standardizer stdzrid\n",
    "    from standards\n",
    "    where compound in ({})'''.format(\",\".join(compounds)), rradb)\n",
    "\n",
    "    standards_df = stddf_stdid.merge(known_standards, on=['normid', 'stdzrid'], how='left')\n",
    "\n",
    "    # consistency check\n",
    "    if standards_df[standards_df.known_standard.notnull() & (standards_df.stdid != standards_df.known_standard)].shape[0]:\n",
    "        print(\"something's wrong with these standardizations:\")\n",
    "        print(standards_df[standards_df.known_standard.notnull() & (standards_df.stdid != standards_df.known_standard)].shape)\n",
    "        return standards_df\n",
    "\n",
    "    # insert novel standardizations\n",
    "    standards_df[standards_df.known_standard.isnull()]\\\n",
    "        .rename(columns={'normid': 'compound', 'stdid':'standard', 'stdzrid':'standardizer', 'standardizer':'name'})\\\n",
    "        .loc[:,['compound', 'standard', 'standardizer']]\\\n",
    "        .to_sql('standards', rradb, index=None, if_exists='append', method='multi')\n"
   ]
  },
  {
   "cell_type": "code",
   "execution_count": 29,
   "metadata": {},
   "outputs": [],
   "source": [
    "def db_update_all_status(rradb, smileslist, propagated=False, standardized=False):\n",
    "        # once more collect ids for standardized smiles, now including novel smiles\n",
    "    present_nsmiles = read_sql(f'''\n",
    "    select id, smiles, standardized, propagated\n",
    "    from nsmiles natural left join progress\n",
    "    where smiles in ('{\"', '\".join(smileslist)}')''', rradb)\n",
    "    \n",
    "    # update existing entries\n",
    "    oldprogress = present_nsmiles[present_nsmiles.standardized.notnull()]\n",
    "    if oldprogress.shape[0] > 0:\n",
    "        idlist = \",\".join([str(_) for _ in oldprogress.id.values])\n",
    "        if propagated:\n",
    "            rradb.execute(f'update progress set propagated = TRUE where id in ({idlist})')\n",
    "        if standardized:\n",
    "            rradb.execute(f'update progress set standardized = TRUE where id in ({idlist})')\n",
    "    \n",
    "    # insert new entries\n",
    "    newprogress = present_nsmiles[present_nsmiles.standardized.isnull()].index\n",
    "    present_nsmiles.loc[newprogress,'standardized'] = standardized\n",
    "    present_nsmiles.loc[newprogress,'propagated'] = propagated\n",
    "    present_nsmiles.loc[newprogress,['id', 'standardized', 'propagated']]\\\n",
    "        .to_sql('progress', rradb, if_exists='append', method='multi', index=None)"
   ]
  },
  {
   "cell_type": "code",
   "execution_count": 30,
   "metadata": {},
   "outputs": [],
   "source": [
    "def standardize_unstandardized(rradb):\n",
    "    nonstandardized = read_sql('''\n",
    "    select id, smiles\n",
    "    from nsmiles natural left join progress\n",
    "    where not standardized or standardized is NULL\n",
    "    ''', rradb).smiles.drop_duplicates().values\n",
    "    print('nonstandardized', len(nonstandardized))\n",
    "    \n",
    "    standardized = multiprocessing_standardization(nonstandardized)\n",
    "    print('standardized', standardized.shape)\n",
    "    \n",
    "    db_update_all_standards(rradb, standardized)\n",
    "    print('standards updated')\n",
    "    \n",
    "    db_update_all_status(rradb, nonstandardized, standardized=True)\n",
    "    print('standardization status updated')"
   ]
  },
  {
   "cell_type": "markdown",
   "metadata": {},
   "source": [
    "## <a class=\"anchor\" id=\"prediction\"></a>Rule Application  [$\\Uparrow$](#toc)"
   ]
  },
  {
   "cell_type": "markdown",
   "metadata": {},
   "source": [
    "Rules are applied to all substrates of the original reactions and to their standardized forms. This is done through the script _runAndCompare_, which in turn calls the _main_ method of the class _org.kramerlab.pps.api.tools.App_. The cell below shows the command line help text for this script:"
   ]
  },
  {
   "cell_type": "code",
   "execution_count": 31,
   "metadata": {},
   "outputs": [
    {
     "name": "stdout",
     "output_type": "stream",
     "text": [
      "Usage: ../bin/runAndCompare -x rules -s substrates [-r reactions] [-o outdir]\n",
      "where\n",
      "- rules is a tab delimited file with 2 columns: rule-id and SMARTS strings\n",
      "- substrates is a file with SMILES strings\n",
      "- reactions is a tab delimited file with 3 columns: substrate SMILES, rule-id(s), product SMILES (joined by '.' if there are more than one)\n",
      "\n",
      "runs all rules on all substrates, the results are then compared to the given reactions\n",
      "in the outdir directory three files are created: \n",
      "- unmatched_reactions.csv, not resulting from rules and substrates but present in the reactions file\n",
      "- matched_reactions.csv, resulting from rules and substrates and present in the reactions file\n",
      "- new_reactions.csv, resulting from rules and substrates but not present in the reactions file\n"
     ]
    }
   ],
   "source": [
    "PROPAGATION = f'{BIN}/runAndCompare'\n",
    "command = [PROPAGATION, '--help']\n",
    "helptext = subprocess.run(command, capture_output=True)\n",
    "print(helptext.stdout.decode().strip())"
   ]
  },
  {
   "cell_type": "markdown",
   "metadata": {},
   "source": [
    "#### Insert the Ambit2 Reactor into the Database\n",
    "The data model of _enviLink_ requires a name for the reactor. In another context this could be used to systematically compare products of different reactors. In the present context there is only one reactor, Ambit2. Nevertheless it must be registered in the database."
   ]
  },
  {
   "cell_type": "code",
   "execution_count": 32,
   "metadata": {},
   "outputs": [],
   "source": [
    "AMBIT = 1\n",
    "try:\n",
    "    rradb.execute(f\"insert into reactor (id, name) values ({AMBIT}, 'ambit')\")\n",
    "except IntegrityError:\n",
    "    pass"
   ]
  },
  {
   "cell_type": "markdown",
   "metadata": {},
   "source": [
    "#### Define Rule Application Routines"
   ]
  },
  {
   "cell_type": "code",
   "execution_count": 33,
   "metadata": {},
   "outputs": [],
   "source": [
    "PROPAGATION = f'{BIN}/runAndCompare'\n",
    "from shutil import rmtree\n",
    "from os import makedirs\n",
    "        \n",
    "def multiprocessing_propagation(smiles_collection, rules_df, nworker, tempdir=TEMP, runb=PROPAGATION):\n",
    "    if nworker < 1:\n",
    "        raise Exception('need at least one worker!')\n",
    "    \n",
    "    if len(list(smiles_collection)) == 0:\n",
    "        return DataFrame(columns=['norm', 'standardized', 'standardizer'])\n",
    "\n",
    "    smiles_df = DataFrame({'norm': list(smiles_collection)})\n",
    "    rules_df.loc[:,['name','smirks']].to_csv(f'{tempdir}/rules.tsv', sep=\"\\t\", header=None, index=None)\n",
    "    \n",
    "    workers = []\n",
    "    for i in range(nworker):\n",
    "        # clean out\n",
    "        try:\n",
    "            rmtree(f'{tempdir}/p{i}')\n",
    "        except FileNotFoundError:\n",
    "            pass\n",
    "        makedirs(f'{tempdir}/p{i}')\n",
    "        \n",
    "        # write compound fils\n",
    "        smiles_df[i::nworker].to_csv(f'{tempdir}/p{i}/compounds.tsv', sep=\"\\t\", header=None, index=None)\n",
    "        \n",
    "        # run prediction (call java programm)\n",
    "        command = f'''{runb}\n",
    "            -x {tempdir}/rules.tsv\n",
    "            -s {tempdir}/p{i}/compounds.tsv\n",
    "            -o {tempdir}/p{i}\n",
    "        '''\n",
    "\n",
    "        workers.append({'process': subprocess.Popen(command.split())})\n",
    "    \n",
    "    while any([workers[i].get('rc') == None for i in range(nworker)]):\n",
    "        from time import sleep\n",
    "        sleep(1)\n",
    "        for i in range(nworker):\n",
    "            workers[i]['rc'] = workers[i]['process'].poll()\n",
    "    \n",
    "    reactions_df = DataFrame()\n",
    "    for i in range(nworker):\n",
    "        stdout, stderr = workers[i]['process'].communicate()\n",
    "        workers[i]['out'] = stdout\n",
    "        workers[i]['err'] = stderr\n",
    "        if workers[i]['rc'] != 0:\n",
    "            raise Exception(workers[i]['err'])\n",
    "        \n",
    "        reactions_df = reactions_df.append(\n",
    "            read_csv(f'{tempdir}/p{i}/new_reactions.csv', sep=\"\\t\", header=None)\n",
    "        )\n",
    "    \n",
    "    # it's possible that the smiles from the resulting reaction differs from the original substrate\n",
    "    # e.g. CNC(=O)OC1=C(/C=C\\C(=O)[O-])C(=CC=C1)/C(=O)[O-]\n",
    "    #      CNC(=O)OC1=C(/C=C\\C(=O)[O-])C(=CC=C1)C(=O)[O-]\n",
    "    # (check $ diff <( cut -f2 compounds.tsv | sort ) <( cut -f 1 new_reactions.csv | sort | uniq ))\n",
    "    return reactions_df.drop_duplicates().reset_index(drop=True)"
   ]
  },
  {
   "cell_type": "code",
   "execution_count": 34,
   "metadata": {},
   "outputs": [],
   "source": [
    "def db_update_all_propagation(rradb, db, reacdf, reactorname='ambit'):\n",
    "    role_df,  rule_reaction_df = _split_reaction(reacdf)\n",
    "\n",
    "    #### reaction role dataframe\n",
    "    role_id_df = _get_compound_ids(rradb, role_df)\n",
    "    \n",
    "    #### reaction dataframe\n",
    "    reaction_id_df = _get_reaction_ids(rradb, role_id_df)\n",
    "    \n",
    "    #### rule reaction dataframe\n",
    "    rule_reaction_df['reactor'] = AMBIT\n",
    "\n",
    "    # adjust column names\n",
    "    rule_reaction_df = rule_reaction_df.rename(columns={'label':'btrule'})\n",
    "    \n",
    "    # collect rules\n",
    "    rules = read_sql('''\n",
    "    select id, container||'-'||simple btrule\n",
    "    from rule\n",
    "    ''', rradb)\n",
    "    rules = rules.rename(columns={'id':'rule'})\n",
    "\n",
    "    # insert rule reaction links\n",
    "    rule_reaction_id_df = rule_reaction_df\\\n",
    "        .merge(rules, on='btrule')\\\n",
    "        .merge(reaction_id_df, on='reacid')\\\n",
    "        .loc[:,['reaction', 'rule', 'reactor']]\\\n",
    "        .drop_duplicates()\n",
    "    \n",
    "    rule_reactions = read_sql('''\n",
    "    select reaction, rule, reactor, 1 e\n",
    "    from rule_reaction\n",
    "    ''', rradb)\n",
    "    \n",
    "    rule_reaction_id_df = rule_reaction_id_df\\\n",
    "        .merge(rule_reactions, on=['reaction', 'rule', 'reactor'], how='left')\n",
    "    rule_reaction_id_df[rule_reaction_id_df.e.isnull()]\\\n",
    "        .loc[:,['reaction', 'rule', 'reactor']]\\\n",
    "        .to_sql('rule_reaction', rradb, index=None, if_exists='append', method='multi')"
   ]
  },
  {
   "cell_type": "code",
   "execution_count": 35,
   "metadata": {},
   "outputs": [],
   "source": [
    "def predict_unpredicted(rradb, db, nworkers=4, limit=None):\n",
    "    querylimit = f'limit {limit}' if limit else ''\n",
    "    nonpropagated = read_sql(f'''\n",
    "    select id, smiles\n",
    "    from nsmiles natural left join progress\n",
    "    where not propagated or propagated is NULL\n",
    "    {querylimit}''', rradb)\n",
    "    print('nonpropagated', nonpropagated.shape)\n",
    "    \n",
    "    propagated = multiprocessing_propagation(nonpropagated.smiles.drop_duplicates().values, rules, nworkers)\n",
    "    print('propagated', propagated.shape)\n",
    "    \n",
    "    db_update_all_propagation(rradb, db, propagated)\n",
    "    print('propagated updated')\n",
    "    \n",
    "    db_update_all_status(rradb, nonpropagated.smiles.values, propagated=True)\n",
    "    print('propagation status updated')"
   ]
  },
  {
   "cell_type": "markdown",
   "metadata": {},
   "source": [
    "## <a class=\"anchor\" id=\"workflow\"></a>Workflow  [$\\Uparrow$](#toc) <a style=\"color:red\"> Ich verstehe nicht, was der Unterschied zwiscshen Rule Application und Workflow ist. Wo werden die Regeln denn nun angewendet? Oben oder hier?</a> \n",
    "The _in silico_ reaction workflow consists of three steps. At first all compounds undergo an initial standardization, then the rules are applied and at last the yet unstandardized products are submitted to another standardization step."
   ]
  },
  {
   "cell_type": "markdown",
   "metadata": {},
   "source": [
    "## <a class=\"anchor\" id=\"workflow\"></a>Workflow  [$\\Uparrow$](#toc) </a>\n",
    "So far, standardization and prediction routines have only been defined. Now they are executed in consecutive order.<br>\n",
    "First, all compounds are standardized, then the rules are applied and at last the yet unstandardized products are submitted to another standardization."
   ]
  },
  {
   "cell_type": "code",
   "execution_count": 36,
   "metadata": {
    "scrolled": true
   },
   "outputs": [
    {
     "name": "stdout",
     "output_type": "stream",
     "text": [
      "nonstandardized 1367\n",
      "standardized (413, 4)\n",
      "standards updated\n",
      "standardization status updated\n",
      "nonpropagated (1701, 2)\n",
      "propagated (9937, 3)\n",
      "propagated updated\n",
      "propagation status updated\n",
      "nonstandardized 7613\n",
      "standardized (3158, 4)\n",
      "standards updated\n",
      "standardization status updated\n"
     ]
    }
   ],
   "source": [
    "standardize_unstandardized(rradb)\n",
    "predict_unpredicted(rradb, db)\n",
    "standardize_unstandardized(rradb)"
   ]
  },
  {
   "cell_type": "markdown",
   "metadata": {},
   "source": [
    "## <a class=\"anchor\" id=\"filter\"></a>Exclusion Filters  [$\\Uparrow$](#toc)\n",
    "In enviPath, rules can have exclusion filters that inactivate them based on SMARTS patterns of the substrates or products. The prediction routine _runAndCompare_, which was applied here, does not take these filters into account. Therefore, reactions breaking the exclusion constraints are identified separately here and marked as excluded in the database."
   ]
  },
  {
   "cell_type": "markdown",
   "metadata": {},
   "source": [
    "#### Read Exclusion Filters from File"
   ]
  },
  {
   "cell_type": "code",
   "execution_count": 37,
   "metadata": {},
   "outputs": [
    {
     "data": {
      "text/html": [
       "<div>\n",
       "<style scoped>\n",
       "    .dataframe tbody tr th:only-of-type {\n",
       "        vertical-align: middle;\n",
       "    }\n",
       "\n",
       "    .dataframe tbody tr th {\n",
       "        vertical-align: top;\n",
       "    }\n",
       "\n",
       "    .dataframe thead th {\n",
       "        text-align: right;\n",
       "    }\n",
       "</style>\n",
       "<table border=\"1\" class=\"dataframe\">\n",
       "  <thead>\n",
       "    <tr style=\"text-align: right;\">\n",
       "      <th></th>\n",
       "      <th>id</th>\n",
       "      <th>name</th>\n",
       "      <th>smirks</th>\n",
       "      <th>substrateFilter</th>\n",
       "      <th>productFilter</th>\n",
       "      <th>container</th>\n",
       "    </tr>\n",
       "  </thead>\n",
       "  <tbody>\n",
       "    <tr>\n",
       "      <th>0</th>\n",
       "      <td>https://envipath.org/package/32de3cf4-e3e6-416...</td>\n",
       "      <td>bt0001-3568</td>\n",
       "      <td>[H][#8:2][C:1]([H:5])([H])[#1,#6:6]&gt;&gt;[H:5][#6:...</td>\n",
       "      <td>[$([H]C(C)=O)]</td>\n",
       "      <td>NaN</td>\n",
       "      <td>https://envipath.org/package/32de3cf4-e3e6-416...</td>\n",
       "    </tr>\n",
       "    <tr>\n",
       "      <th>1</th>\n",
       "      <td>https://envipath.org/package/32de3cf4-e3e6-416...</td>\n",
       "      <td>bt0002-3673</td>\n",
       "      <td>[H][#8:1][#6;A;!$(CCC(O)[O-]):2]([H])([#6:5])[...</td>\n",
       "      <td>[$([O;H1]C1C=CC=CC1[O;H1])]</td>\n",
       "      <td>NaN</td>\n",
       "      <td>https://envipath.org/package/32de3cf4-e3e6-416...</td>\n",
       "    </tr>\n",
       "    <tr>\n",
       "      <th>2</th>\n",
       "      <td>https://envipath.org/package/32de3cf4-e3e6-416...</td>\n",
       "      <td>bt0003-1196</td>\n",
       "      <td>[H][#6:1](-[#6:5])=[O:4]&gt;&gt;[#6:5]-[#6:1](-[#8-]...</td>\n",
       "      <td>NaN</td>\n",
       "      <td>NaN</td>\n",
       "      <td>https://envipath.org/package/32de3cf4-e3e6-416...</td>\n",
       "    </tr>\n",
       "    <tr>\n",
       "      <th>3</th>\n",
       "      <td>https://envipath.org/package/32de3cf4-e3e6-416...</td>\n",
       "      <td>bt0005-3667</td>\n",
       "      <td>[#8:7]([H])-[#6:1]([H])-1-[#6:2]=[#6:3]-[#6:4]...</td>\n",
       "      <td>NaN</td>\n",
       "      <td>NaN</td>\n",
       "      <td>https://envipath.org/package/32de3cf4-e3e6-416...</td>\n",
       "    </tr>\n",
       "    <tr>\n",
       "      <th>4</th>\n",
       "      <td>https://envipath.org/package/32de3cf4-e3e6-416...</td>\n",
       "      <td>bt0005-3776</td>\n",
       "      <td>[c:7]([H])1[c:8]([H])[c:9]([H])[c:10]2[c:11]([...</td>\n",
       "      <td>NaN</td>\n",
       "      <td>NaN</td>\n",
       "      <td>https://envipath.org/package/32de3cf4-e3e6-416...</td>\n",
       "    </tr>\n",
       "  </tbody>\n",
       "</table>\n",
       "</div>"
      ],
      "text/plain": [
       "                                                  id         name  \\\n",
       "0  https://envipath.org/package/32de3cf4-e3e6-416...  bt0001-3568   \n",
       "1  https://envipath.org/package/32de3cf4-e3e6-416...  bt0002-3673   \n",
       "2  https://envipath.org/package/32de3cf4-e3e6-416...  bt0003-1196   \n",
       "3  https://envipath.org/package/32de3cf4-e3e6-416...  bt0005-3667   \n",
       "4  https://envipath.org/package/32de3cf4-e3e6-416...  bt0005-3776   \n",
       "\n",
       "                                              smirks  \\\n",
       "0  [H][#8:2][C:1]([H:5])([H])[#1,#6:6]>>[H:5][#6:...   \n",
       "1  [H][#8:1][#6;A;!$(CCC(O)[O-]):2]([H])([#6:5])[...   \n",
       "2  [H][#6:1](-[#6:5])=[O:4]>>[#6:5]-[#6:1](-[#8-]...   \n",
       "3  [#8:7]([H])-[#6:1]([H])-1-[#6:2]=[#6:3]-[#6:4]...   \n",
       "4  [c:7]([H])1[c:8]([H])[c:9]([H])[c:10]2[c:11]([...   \n",
       "\n",
       "               substrateFilter productFilter  \\\n",
       "0               [$([H]C(C)=O)]           NaN   \n",
       "1  [$([O;H1]C1C=CC=CC1[O;H1])]           NaN   \n",
       "2                          NaN           NaN   \n",
       "3                          NaN           NaN   \n",
       "4                          NaN           NaN   \n",
       "\n",
       "                                           container  \n",
       "0  https://envipath.org/package/32de3cf4-e3e6-416...  \n",
       "1  https://envipath.org/package/32de3cf4-e3e6-416...  \n",
       "2  https://envipath.org/package/32de3cf4-e3e6-416...  \n",
       "3  https://envipath.org/package/32de3cf4-e3e6-416...  \n",
       "4  https://envipath.org/package/32de3cf4-e3e6-416...  "
      ]
     },
     "execution_count": 37,
     "metadata": {},
     "output_type": "execute_result"
    }
   ],
   "source": [
    "filtruls = read_csv(f'{TEMP}/envipath-rules.annotated.tsv', sep='\\t')\n",
    "filtruls.head()"
   ]
  },
  {
   "cell_type": "code",
   "execution_count": 38,
   "metadata": {},
   "outputs": [
    {
     "data": {
      "text/html": [
       "<div>\n",
       "<style scoped>\n",
       "    .dataframe tbody tr th:only-of-type {\n",
       "        vertical-align: middle;\n",
       "    }\n",
       "\n",
       "    .dataframe tbody tr th {\n",
       "        vertical-align: top;\n",
       "    }\n",
       "\n",
       "    .dataframe thead th {\n",
       "        text-align: right;\n",
       "    }\n",
       "</style>\n",
       "<table border=\"1\" class=\"dataframe\">\n",
       "  <thead>\n",
       "    <tr style=\"text-align: right;\">\n",
       "      <th></th>\n",
       "      <th>id</th>\n",
       "      <th>name</th>\n",
       "      <th>smirks</th>\n",
       "      <th>substrateFilter</th>\n",
       "      <th>productFilter</th>\n",
       "      <th>container</th>\n",
       "      <th>btrule</th>\n",
       "      <th>simple</th>\n",
       "    </tr>\n",
       "  </thead>\n",
       "  <tbody>\n",
       "    <tr>\n",
       "      <th>0</th>\n",
       "      <td>https://envipath.org/package/32de3cf4-e3e6-416...</td>\n",
       "      <td>bt0001-3568</td>\n",
       "      <td>[H][#8:2][C:1]([H:5])([H])[#1,#6:6]&gt;&gt;[H:5][#6:...</td>\n",
       "      <td>[$([H]C(C)=O)]</td>\n",
       "      <td>NaN</td>\n",
       "      <td>https://envipath.org/package/32de3cf4-e3e6-416...</td>\n",
       "      <td>bt0001</td>\n",
       "      <td>3568</td>\n",
       "    </tr>\n",
       "    <tr>\n",
       "      <th>1</th>\n",
       "      <td>https://envipath.org/package/32de3cf4-e3e6-416...</td>\n",
       "      <td>bt0002-3673</td>\n",
       "      <td>[H][#8:1][#6;A;!$(CCC(O)[O-]):2]([H])([#6:5])[...</td>\n",
       "      <td>[$([O;H1]C1C=CC=CC1[O;H1])]</td>\n",
       "      <td>NaN</td>\n",
       "      <td>https://envipath.org/package/32de3cf4-e3e6-416...</td>\n",
       "      <td>bt0002</td>\n",
       "      <td>3673</td>\n",
       "    </tr>\n",
       "    <tr>\n",
       "      <th>2</th>\n",
       "      <td>https://envipath.org/package/32de3cf4-e3e6-416...</td>\n",
       "      <td>bt0003-1196</td>\n",
       "      <td>[H][#6:1](-[#6:5])=[O:4]&gt;&gt;[#6:5]-[#6:1](-[#8-]...</td>\n",
       "      <td>NaN</td>\n",
       "      <td>NaN</td>\n",
       "      <td>https://envipath.org/package/32de3cf4-e3e6-416...</td>\n",
       "      <td>bt0003</td>\n",
       "      <td>1196</td>\n",
       "    </tr>\n",
       "    <tr>\n",
       "      <th>3</th>\n",
       "      <td>https://envipath.org/package/32de3cf4-e3e6-416...</td>\n",
       "      <td>bt0005-3667</td>\n",
       "      <td>[#8:7]([H])-[#6:1]([H])-1-[#6:2]=[#6:3]-[#6:4]...</td>\n",
       "      <td>NaN</td>\n",
       "      <td>NaN</td>\n",
       "      <td>https://envipath.org/package/32de3cf4-e3e6-416...</td>\n",
       "      <td>bt0005</td>\n",
       "      <td>3667</td>\n",
       "    </tr>\n",
       "    <tr>\n",
       "      <th>4</th>\n",
       "      <td>https://envipath.org/package/32de3cf4-e3e6-416...</td>\n",
       "      <td>bt0005-3776</td>\n",
       "      <td>[c:7]([H])1[c:8]([H])[c:9]([H])[c:10]2[c:11]([...</td>\n",
       "      <td>NaN</td>\n",
       "      <td>NaN</td>\n",
       "      <td>https://envipath.org/package/32de3cf4-e3e6-416...</td>\n",
       "      <td>bt0005</td>\n",
       "      <td>3776</td>\n",
       "    </tr>\n",
       "  </tbody>\n",
       "</table>\n",
       "</div>"
      ],
      "text/plain": [
       "                                                  id         name  \\\n",
       "0  https://envipath.org/package/32de3cf4-e3e6-416...  bt0001-3568   \n",
       "1  https://envipath.org/package/32de3cf4-e3e6-416...  bt0002-3673   \n",
       "2  https://envipath.org/package/32de3cf4-e3e6-416...  bt0003-1196   \n",
       "3  https://envipath.org/package/32de3cf4-e3e6-416...  bt0005-3667   \n",
       "4  https://envipath.org/package/32de3cf4-e3e6-416...  bt0005-3776   \n",
       "\n",
       "                                              smirks  \\\n",
       "0  [H][#8:2][C:1]([H:5])([H])[#1,#6:6]>>[H:5][#6:...   \n",
       "1  [H][#8:1][#6;A;!$(CCC(O)[O-]):2]([H])([#6:5])[...   \n",
       "2  [H][#6:1](-[#6:5])=[O:4]>>[#6:5]-[#6:1](-[#8-]...   \n",
       "3  [#8:7]([H])-[#6:1]([H])-1-[#6:2]=[#6:3]-[#6:4]...   \n",
       "4  [c:7]([H])1[c:8]([H])[c:9]([H])[c:10]2[c:11]([...   \n",
       "\n",
       "               substrateFilter productFilter  \\\n",
       "0               [$([H]C(C)=O)]           NaN   \n",
       "1  [$([O;H1]C1C=CC=CC1[O;H1])]           NaN   \n",
       "2                          NaN           NaN   \n",
       "3                          NaN           NaN   \n",
       "4                          NaN           NaN   \n",
       "\n",
       "                                           container  btrule simple  \n",
       "0  https://envipath.org/package/32de3cf4-e3e6-416...  bt0001   3568  \n",
       "1  https://envipath.org/package/32de3cf4-e3e6-416...  bt0002   3673  \n",
       "2  https://envipath.org/package/32de3cf4-e3e6-416...  bt0003   1196  \n",
       "3  https://envipath.org/package/32de3cf4-e3e6-416...  bt0005   3667  \n",
       "4  https://envipath.org/package/32de3cf4-e3e6-416...  bt0005   3776  "
      ]
     },
     "execution_count": 38,
     "metadata": {},
     "output_type": "execute_result"
    }
   ],
   "source": [
    "def splitname(row):\n",
    "    container, simple = row['name'].split('-')\n",
    "    return Series({'btrule':container, 'simple':simple})\n",
    "filtruls = filtruls.join(filtruls.apply(splitname, axis=1))\n",
    "filtruls.head()"
   ]
  },
  {
   "cell_type": "markdown",
   "metadata": {},
   "source": [
    "#### Substrate Filters"
   ]
  },
  {
   "cell_type": "code",
   "execution_count": 39,
   "metadata": {},
   "outputs": [
    {
     "data": {
      "text/html": [
       "<div>\n",
       "<style scoped>\n",
       "    .dataframe tbody tr th:only-of-type {\n",
       "        vertical-align: middle;\n",
       "    }\n",
       "\n",
       "    .dataframe tbody tr th {\n",
       "        vertical-align: top;\n",
       "    }\n",
       "\n",
       "    .dataframe thead th {\n",
       "        text-align: right;\n",
       "    }\n",
       "</style>\n",
       "<table border=\"1\" class=\"dataframe\">\n",
       "  <thead>\n",
       "    <tr style=\"text-align: right;\">\n",
       "      <th></th>\n",
       "      <th>simple</th>\n",
       "      <th>substrateFilter</th>\n",
       "    </tr>\n",
       "  </thead>\n",
       "  <tbody>\n",
       "    <tr>\n",
       "      <th>0</th>\n",
       "      <td>3568</td>\n",
       "      <td>[$([H]C(C)=O)]</td>\n",
       "    </tr>\n",
       "    <tr>\n",
       "      <th>1</th>\n",
       "      <td>3673</td>\n",
       "      <td>[$([O;H1]C1C=CC=CC1[O;H1])]</td>\n",
       "    </tr>\n",
       "    <tr>\n",
       "      <th>5</th>\n",
       "      <td>4282</td>\n",
       "      <td>[$([#1,#8]~C(C([#8-])=O)c1ccccc1C([#8-])=O),$(...</td>\n",
       "    </tr>\n",
       "    <tr>\n",
       "      <th>6</th>\n",
       "      <td>4163</td>\n",
       "      <td>[$([O-][N+](=O)c1ccccc1),$([#6]-c1[c;H1][c;H1]...</td>\n",
       "    </tr>\n",
       "    <tr>\n",
       "      <th>8</th>\n",
       "      <td>4164</td>\n",
       "      <td>[$(Cc1cc(*):nc(*):c1),$([O-][N+](=O)c1cccc(c1)...</td>\n",
       "    </tr>\n",
       "  </tbody>\n",
       "</table>\n",
       "</div>"
      ],
      "text/plain": [
       "  simple                                    substrateFilter\n",
       "0   3568                                     [$([H]C(C)=O)]\n",
       "1   3673                        [$([O;H1]C1C=CC=CC1[O;H1])]\n",
       "5   4282  [$([#1,#8]~C(C([#8-])=O)c1ccccc1C([#8-])=O),$(...\n",
       "6   4163  [$([O-][N+](=O)c1ccccc1),$([#6]-c1[c;H1][c;H1]...\n",
       "8   4164  [$(Cc1cc(*):nc(*):c1),$([O-][N+](=O)c1cccc(c1)..."
      ]
     },
     "execution_count": 39,
     "metadata": {},
     "output_type": "execute_result"
    }
   ],
   "source": [
    "REACTANT_FILTERS = f'{TEMP}/reactantFilters.tsv'\n",
    "\n",
    "reactionFilters = filtruls[filtruls.substrateFilter.notnull()]\\\n",
    "    .loc[:,['simple', 'substrateFilter']]\n",
    "reactionFilters\\\n",
    "    .to_csv(REACTANT_FILTERS, header=None, index=None, sep='\\t')\n",
    "reactionFilters.head()"
   ]
  },
  {
   "cell_type": "code",
   "execution_count": 40,
   "metadata": {},
   "outputs": [
    {
     "data": {
      "text/html": [
       "<div>\n",
       "<style scoped>\n",
       "    .dataframe tbody tr th:only-of-type {\n",
       "        vertical-align: middle;\n",
       "    }\n",
       "\n",
       "    .dataframe tbody tr th {\n",
       "        vertical-align: top;\n",
       "    }\n",
       "\n",
       "    .dataframe thead th {\n",
       "        text-align: right;\n",
       "    }\n",
       "</style>\n",
       "<table border=\"1\" class=\"dataframe\">\n",
       "  <thead>\n",
       "    <tr style=\"text-align: right;\">\n",
       "      <th></th>\n",
       "      <th>reaction</th>\n",
       "      <th>simple</th>\n",
       "      <th>smiles</th>\n",
       "    </tr>\n",
       "  </thead>\n",
       "  <tbody>\n",
       "    <tr>\n",
       "      <th>0</th>\n",
       "      <td>6289</td>\n",
       "      <td>2982</td>\n",
       "      <td>C(=C\\C(=O)C(=O)[O-])/C1=CC(=CC=C1O)N</td>\n",
       "    </tr>\n",
       "    <tr>\n",
       "      <th>1</th>\n",
       "      <td>5872</td>\n",
       "      <td>3938</td>\n",
       "      <td>CCC1=CC=CC(=C1NCOC)CC</td>\n",
       "    </tr>\n",
       "    <tr>\n",
       "      <th>2</th>\n",
       "      <td>6021</td>\n",
       "      <td>3938</td>\n",
       "      <td>CN1[C@@H]2C[C@H]1C([C@@H]([C@@H](C2)O)C(=O)[O-])O</td>\n",
       "    </tr>\n",
       "    <tr>\n",
       "      <th>3</th>\n",
       "      <td>9467</td>\n",
       "      <td>4165</td>\n",
       "      <td>C1=CC=C(C=C1)C#N</td>\n",
       "    </tr>\n",
       "    <tr>\n",
       "      <th>4</th>\n",
       "      <td>8706</td>\n",
       "      <td>3854</td>\n",
       "      <td>C([C@@H]1[C@H]([C@@H]([C@H]([C@H](O1)O[C@@H]2[...</td>\n",
       "    </tr>\n",
       "  </tbody>\n",
       "</table>\n",
       "</div>"
      ],
      "text/plain": [
       "   reaction simple                                             smiles\n",
       "0      6289   2982               C(=C\\C(=O)C(=O)[O-])/C1=CC(=CC=C1O)N\n",
       "1      5872   3938                              CCC1=CC=CC(=C1NCOC)CC\n",
       "2      6021   3938  CN1[C@@H]2C[C@H]1C([C@@H]([C@@H](C2)O)C(=O)[O-])O\n",
       "3      9467   4165                                   C1=CC=C(C=C1)C#N\n",
       "4      8706   3854  C([C@@H]1[C@H]([C@@H]([C@H]([C@H](O1)O[C@@H]2[..."
      ]
     },
     "execution_count": 40,
     "metadata": {},
     "output_type": "execute_result"
    }
   ],
   "source": [
    "REACTANT_FILTER_SUBSTRATES = f'{TEMP}/reactantFilterSubstrates.tsv'\n",
    "\n",
    "ruleList = \"','\".join(reactionFilters.simple.values)\n",
    "affectedByReactionFilters = read_sql(f'''\n",
    "select distinct reaction, simple, smiles\n",
    "from rule_reaction\n",
    " join rule on rule.id = rule\n",
    " join rrole using(reaction)\n",
    " join nsmiles on nsmiles.id = compound\n",
    "where isproduct is FALSE \n",
    " and reactor = 1\n",
    " and simple in ('{ruleList}')\n",
    "''', rradb)\n",
    "affectedByReactionFilters\\\n",
    "    .to_csv(REACTANT_FILTER_SUBSTRATES, header=None, index=None, sep='\\t')\n",
    "affectedByReactionFilters.head()"
   ]
  },
  {
   "cell_type": "code",
   "execution_count": 41,
   "metadata": {},
   "outputs": [
    {
     "data": {
      "text/html": [
       "<div>\n",
       "<style scoped>\n",
       "    .dataframe tbody tr th:only-of-type {\n",
       "        vertical-align: middle;\n",
       "    }\n",
       "\n",
       "    .dataframe tbody tr th {\n",
       "        vertical-align: top;\n",
       "    }\n",
       "\n",
       "    .dataframe thead th {\n",
       "        text-align: right;\n",
       "    }\n",
       "</style>\n",
       "<table border=\"1\" class=\"dataframe\">\n",
       "  <thead>\n",
       "    <tr style=\"text-align: right;\">\n",
       "      <th></th>\n",
       "      <th>reaction</th>\n",
       "    </tr>\n",
       "    <tr>\n",
       "      <th>simple</th>\n",
       "      <th></th>\n",
       "    </tr>\n",
       "  </thead>\n",
       "  <tbody>\n",
       "    <tr>\n",
       "      <th>4282</th>\n",
       "      <td>1495</td>\n",
       "    </tr>\n",
       "    <tr>\n",
       "      <th>3859</th>\n",
       "      <td>488</td>\n",
       "    </tr>\n",
       "    <tr>\n",
       "      <th>3673</th>\n",
       "      <td>421</td>\n",
       "    </tr>\n",
       "    <tr>\n",
       "      <th>4215</th>\n",
       "      <td>247</td>\n",
       "    </tr>\n",
       "    <tr>\n",
       "      <th>3938</th>\n",
       "      <td>221</td>\n",
       "    </tr>\n",
       "  </tbody>\n",
       "</table>\n",
       "</div>"
      ],
      "text/plain": [
       "        reaction\n",
       "simple          \n",
       "4282        1495\n",
       "3859         488\n",
       "3673         421\n",
       "4215         247\n",
       "3938         221"
      ]
     },
     "execution_count": 41,
     "metadata": {},
     "output_type": "execute_result"
    }
   ],
   "source": [
    "reactionFilters.merge(affectedByReactionFilters, on='simple').groupby('simple').agg({'reaction':'count'})\\\n",
    "    .sort_values(by='reaction', ascending=False).head()"
   ]
  },
  {
   "cell_type": "code",
   "execution_count": 42,
   "metadata": {},
   "outputs": [
    {
     "name": "stdout",
     "output_type": "stream",
     "text": [
      "\n"
     ]
    }
   ],
   "source": [
    "POST_REACTION_FILTER = f'{BIN}/postReactionFilter'\n",
    "REACTANT_FILTER_MATCHES = f'{TEMP}/reactantFilterMatches.tsv'\n",
    "\n",
    "command = f'''{POST_REACTION_FILTER}\n",
    "    -c {REACTANT_FILTER_SUBSTRATES}\n",
    "    -p {REACTANT_FILTERS}\n",
    "    -m {REACTANT_FILTER_MATCHES}'''\n",
    "ran = subprocess.run(command.split(), capture_output=True)\n",
    "print(ran.stdout.decode())"
   ]
  },
  {
   "cell_type": "markdown",
   "metadata": {},
   "source": [
    "#### Product Filters"
   ]
  },
  {
   "cell_type": "code",
   "execution_count": 43,
   "metadata": {},
   "outputs": [
    {
     "data": {
      "text/html": [
       "<div>\n",
       "<style scoped>\n",
       "    .dataframe tbody tr th:only-of-type {\n",
       "        vertical-align: middle;\n",
       "    }\n",
       "\n",
       "    .dataframe tbody tr th {\n",
       "        vertical-align: top;\n",
       "    }\n",
       "\n",
       "    .dataframe thead th {\n",
       "        text-align: right;\n",
       "    }\n",
       "</style>\n",
       "<table border=\"1\" class=\"dataframe\">\n",
       "  <thead>\n",
       "    <tr style=\"text-align: right;\">\n",
       "      <th></th>\n",
       "      <th>simple</th>\n",
       "      <th>productFilter</th>\n",
       "    </tr>\n",
       "  </thead>\n",
       "  <tbody>\n",
       "    <tr>\n",
       "      <th>5</th>\n",
       "      <td>4282</td>\n",
       "      <td>[$([#6]!@-c1cc([O;H1])c([O;H1])c2[c;H1][c;H1][...</td>\n",
       "    </tr>\n",
       "    <tr>\n",
       "      <th>8</th>\n",
       "      <td>4164</td>\n",
       "      <td>[$(C!@-c1cccc(O)c1!@-C),$(Cc1ccnc(=O)c1),$(O=C...</td>\n",
       "    </tr>\n",
       "    <tr>\n",
       "      <th>10</th>\n",
       "      <td>4165</td>\n",
       "      <td>[$(C!@-c1cc(O)c2ccccc2c1!@-C)]</td>\n",
       "    </tr>\n",
       "    <tr>\n",
       "      <th>12</th>\n",
       "      <td>4215</td>\n",
       "      <td>[$(OC1=[C;R1]C2=C([C;R1]=C1O)[C,N]=CC=C2),$(Oc...</td>\n",
       "    </tr>\n",
       "    <tr>\n",
       "      <th>54</th>\n",
       "      <td>4171</td>\n",
       "      <td>[$(Oc1cc(:[c,n,o,s])c(:[c,n,o,s])cc1O)]</td>\n",
       "    </tr>\n",
       "  </tbody>\n",
       "</table>\n",
       "</div>"
      ],
      "text/plain": [
       "   simple                                      productFilter\n",
       "5    4282  [$([#6]!@-c1cc([O;H1])c([O;H1])c2[c;H1][c;H1][...\n",
       "8    4164  [$(C!@-c1cccc(O)c1!@-C),$(Cc1ccnc(=O)c1),$(O=C...\n",
       "10   4165                     [$(C!@-c1cc(O)c2ccccc2c1!@-C)]\n",
       "12   4215  [$(OC1=[C;R1]C2=C([C;R1]=C1O)[C,N]=CC=C2),$(Oc...\n",
       "54   4171            [$(Oc1cc(:[c,n,o,s])c(:[c,n,o,s])cc1O)]"
      ]
     },
     "execution_count": 43,
     "metadata": {},
     "output_type": "execute_result"
    }
   ],
   "source": [
    "PRODUCT_FILTERS = f'{TEMP}/productFilters.tsv'\n",
    "\n",
    "productFilters = filtruls[filtruls.productFilter.notnull()]\\\n",
    "    .loc[:,['simple', 'productFilter']]\n",
    "productFilters\\\n",
    "    .to_csv(PRODUCT_FILTERS, header=None, index=None, sep='\\t')\n",
    "productFilters.head()"
   ]
  },
  {
   "cell_type": "code",
   "execution_count": 44,
   "metadata": {
    "scrolled": true
   },
   "outputs": [
    {
     "data": {
      "text/html": [
       "<div>\n",
       "<style scoped>\n",
       "    .dataframe tbody tr th:only-of-type {\n",
       "        vertical-align: middle;\n",
       "    }\n",
       "\n",
       "    .dataframe tbody tr th {\n",
       "        vertical-align: top;\n",
       "    }\n",
       "\n",
       "    .dataframe thead th {\n",
       "        text-align: right;\n",
       "    }\n",
       "</style>\n",
       "<table border=\"1\" class=\"dataframe\">\n",
       "  <thead>\n",
       "    <tr style=\"text-align: right;\">\n",
       "      <th></th>\n",
       "      <th>reaction</th>\n",
       "      <th>simple</th>\n",
       "      <th>smiles</th>\n",
       "    </tr>\n",
       "  </thead>\n",
       "  <tbody>\n",
       "    <tr>\n",
       "      <th>0</th>\n",
       "      <td>21</td>\n",
       "      <td>4215</td>\n",
       "      <td>CC1=CC2=C(C(=CC=C2NC1=O)O)O</td>\n",
       "    </tr>\n",
       "    <tr>\n",
       "      <th>1</th>\n",
       "      <td>60</td>\n",
       "      <td>4215</td>\n",
       "      <td>C1=CC(=C(C2=C1N=C(S)S2)O)O</td>\n",
       "    </tr>\n",
       "    <tr>\n",
       "      <th>2</th>\n",
       "      <td>126</td>\n",
       "      <td>4263</td>\n",
       "      <td>CCOP(=S)(OCC)SCS(=O)(=O)CC</td>\n",
       "    </tr>\n",
       "    <tr>\n",
       "      <th>3</th>\n",
       "      <td>129</td>\n",
       "      <td>4215</td>\n",
       "      <td>C1=C(C=C(C(=C1)O)O)CC(=O)[O-]</td>\n",
       "    </tr>\n",
       "    <tr>\n",
       "      <th>4</th>\n",
       "      <td>156</td>\n",
       "      <td>4215</td>\n",
       "      <td>C1=CC=C(C=C1)C2=C(C(=CC=C2)O)O</td>\n",
       "    </tr>\n",
       "  </tbody>\n",
       "</table>\n",
       "</div>"
      ],
      "text/plain": [
       "   reaction simple                          smiles\n",
       "0        21   4215     CC1=CC2=C(C(=CC=C2NC1=O)O)O\n",
       "1        60   4215      C1=CC(=C(C2=C1N=C(S)S2)O)O\n",
       "2       126   4263      CCOP(=S)(OCC)SCS(=O)(=O)CC\n",
       "3       129   4215   C1=C(C=C(C(=C1)O)O)CC(=O)[O-]\n",
       "4       156   4215  C1=CC=C(C=C1)C2=C(C(=CC=C2)O)O"
      ]
     },
     "execution_count": 44,
     "metadata": {},
     "output_type": "execute_result"
    }
   ],
   "source": [
    "PRODUCT_FILTER_SUBSTRATES = f'{TEMP}/productFilterSubstrates.tsv'\n",
    "\n",
    "ruleList = \"','\".join(productFilters.simple.values)\n",
    "affectedByProductFilters = read_sql(f'''\n",
    "select distinct reaction, simple, smiles\n",
    "from rule_reaction\n",
    " join rule on rule.id = rule\n",
    " join rrole using(reaction)\n",
    " join nsmiles on nsmiles.id = compound\n",
    "where isproduct is TRUE \n",
    " and reactor = 1\n",
    " and simple in ('{ruleList}')\n",
    "''', rradb)\n",
    "affectedByProductFilters\\\n",
    "    .to_csv(PRODUCT_FILTER_SUBSTRATES, header=None, index=None, sep='\\t')\n",
    "affectedByProductFilters.head()"
   ]
  },
  {
   "cell_type": "code",
   "execution_count": 45,
   "metadata": {},
   "outputs": [
    {
     "data": {
      "text/html": [
       "<div>\n",
       "<style scoped>\n",
       "    .dataframe tbody tr th:only-of-type {\n",
       "        vertical-align: middle;\n",
       "    }\n",
       "\n",
       "    .dataframe tbody tr th {\n",
       "        vertical-align: top;\n",
       "    }\n",
       "\n",
       "    .dataframe thead th {\n",
       "        text-align: right;\n",
       "    }\n",
       "</style>\n",
       "<table border=\"1\" class=\"dataframe\">\n",
       "  <thead>\n",
       "    <tr style=\"text-align: right;\">\n",
       "      <th></th>\n",
       "      <th>reaction</th>\n",
       "    </tr>\n",
       "    <tr>\n",
       "      <th>simple</th>\n",
       "      <th></th>\n",
       "    </tr>\n",
       "  </thead>\n",
       "  <tbody>\n",
       "    <tr>\n",
       "      <th>4282</th>\n",
       "      <td>1495</td>\n",
       "    </tr>\n",
       "    <tr>\n",
       "      <th>4215</th>\n",
       "      <td>247</td>\n",
       "    </tr>\n",
       "    <tr>\n",
       "      <th>4171</th>\n",
       "      <td>150</td>\n",
       "    </tr>\n",
       "    <tr>\n",
       "      <th>4263</th>\n",
       "      <td>73</td>\n",
       "    </tr>\n",
       "    <tr>\n",
       "      <th>4164</th>\n",
       "      <td>64</td>\n",
       "    </tr>\n",
       "    <tr>\n",
       "      <th>4165</th>\n",
       "      <td>64</td>\n",
       "    </tr>\n",
       "  </tbody>\n",
       "</table>\n",
       "</div>"
      ],
      "text/plain": [
       "        reaction\n",
       "simple          \n",
       "4282        1495\n",
       "4215         247\n",
       "4171         150\n",
       "4263          73\n",
       "4164          64\n",
       "4165          64"
      ]
     },
     "execution_count": 45,
     "metadata": {},
     "output_type": "execute_result"
    }
   ],
   "source": [
    "productFilters.merge(affectedByProductFilters, on='simple').groupby('simple').agg({'reaction':'count'})\\\n",
    "    .sort_values(by='reaction', ascending=False)"
   ]
  },
  {
   "cell_type": "code",
   "execution_count": 46,
   "metadata": {},
   "outputs": [
    {
     "name": "stdout",
     "output_type": "stream",
     "text": [
      "\n"
     ]
    }
   ],
   "source": [
    "POST_REACTION_FILTER = f'{BIN}/postReactionFilter'\n",
    "PRODUCT_FILTER_MATCHES = f'{TEMP}/productFilterMatches.tsv'\n",
    "\n",
    "command = f'''{POST_REACTION_FILTER}\n",
    "    -c {PRODUCT_FILTER_SUBSTRATES}\n",
    "    -p {PRODUCT_FILTERS}\n",
    "    -m {PRODUCT_FILTER_MATCHES}'''\n",
    "ran = subprocess.run(command.split(), capture_output=True)\n",
    "print(ran.stdout.decode())"
   ]
  },
  {
   "cell_type": "markdown",
   "metadata": {},
   "source": [
    "#### Excluded Reactions"
   ]
  },
  {
   "cell_type": "code",
   "execution_count": 47,
   "metadata": {},
   "outputs": [
    {
     "name": "stdout",
     "output_type": "stream",
     "text": [
      "(1790, 2)\n",
      "(1749, 2)\n",
      "(1749, 3)\n"
     ]
    },
    {
     "data": {
      "text/html": [
       "<div>\n",
       "<style scoped>\n",
       "    .dataframe tbody tr th:only-of-type {\n",
       "        vertical-align: middle;\n",
       "    }\n",
       "\n",
       "    .dataframe tbody tr th {\n",
       "        vertical-align: top;\n",
       "    }\n",
       "\n",
       "    .dataframe thead th {\n",
       "        text-align: right;\n",
       "    }\n",
       "</style>\n",
       "<table border=\"1\" class=\"dataframe\">\n",
       "  <thead>\n",
       "    <tr style=\"text-align: right;\">\n",
       "      <th></th>\n",
       "      <th>reaction</th>\n",
       "      <th>simple</th>\n",
       "      <th>id</th>\n",
       "    </tr>\n",
       "  </thead>\n",
       "  <tbody>\n",
       "    <tr>\n",
       "      <th>0</th>\n",
       "      <td>6289</td>\n",
       "      <td>2982</td>\n",
       "      <td>276</td>\n",
       "    </tr>\n",
       "    <tr>\n",
       "      <th>1</th>\n",
       "      <td>6217</td>\n",
       "      <td>2982</td>\n",
       "      <td>276</td>\n",
       "    </tr>\n",
       "    <tr>\n",
       "      <th>2</th>\n",
       "      <td>6301</td>\n",
       "      <td>2982</td>\n",
       "      <td>276</td>\n",
       "    </tr>\n",
       "    <tr>\n",
       "      <th>3</th>\n",
       "      <td>6718</td>\n",
       "      <td>2982</td>\n",
       "      <td>276</td>\n",
       "    </tr>\n",
       "    <tr>\n",
       "      <th>4</th>\n",
       "      <td>1564</td>\n",
       "      <td>2982</td>\n",
       "      <td>276</td>\n",
       "    </tr>\n",
       "  </tbody>\n",
       "</table>\n",
       "</div>"
      ],
      "text/plain": [
       "  reaction simple   id\n",
       "0     6289   2982  276\n",
       "1     6217   2982  276\n",
       "2     6301   2982  276\n",
       "3     6718   2982  276\n",
       "4     1564   2982  276"
      ]
     },
     "execution_count": 47,
     "metadata": {},
     "output_type": "execute_result"
    }
   ],
   "source": [
    "excluded_rule_reactions = read_csv(REACTANT_FILTER_MATCHES,  sep=\"\\t\", header=None, dtype='str')\\\n",
    "                  .append(read_csv(PRODUCT_FILTER_MATCHES, sep=\"\\t\", header=None, dtype='str'))\n",
    "print(excluded_rule_reactions.shape)\n",
    "excluded_rule_reactions = excluded_rule_reactions.drop_duplicates()\n",
    "print(excluded_rule_reactions.shape)\n",
    "excluded_rule_reactions.columns = ['reaction', 'simple']\n",
    "excluded_rule_reactions = excluded_rule_reactions.merge(\n",
    "    read_sql('select id, simple from rule', rradb), on='simple'\n",
    ")\n",
    "print(excluded_rule_reactions.shape)\n",
    "excluded_rule_reactions.head()"
   ]
  },
  {
   "cell_type": "markdown",
   "metadata": {},
   "source": [
    "#### Mark Reactions as Excluded in the Database"
   ]
  },
  {
   "cell_type": "code",
   "execution_count": 48,
   "metadata": {},
   "outputs": [],
   "source": [
    "excluded_rule_reactions.groupby('id').agg({'reaction':','.join}).apply(\n",
    "    lambda row:\n",
    "        rradb.execute(f'''\n",
    "        update rule_reaction\n",
    "        set excluded = TRUE\n",
    "        where reactor = {AMBIT} and rule = {row.name} and reaction in ({row.reaction})\n",
    "        '''),\n",
    "    axis=1\n",
    ");"
   ]
  },
  {
   "cell_type": "code",
   "execution_count": 49,
   "metadata": {},
   "outputs": [
    {
     "data": {
      "text/html": [
       "<div>\n",
       "<style scoped>\n",
       "    .dataframe tbody tr th:only-of-type {\n",
       "        vertical-align: middle;\n",
       "    }\n",
       "\n",
       "    .dataframe tbody tr th {\n",
       "        vertical-align: top;\n",
       "    }\n",
       "\n",
       "    .dataframe thead th {\n",
       "        text-align: right;\n",
       "    }\n",
       "</style>\n",
       "<table border=\"1\" class=\"dataframe\">\n",
       "  <thead>\n",
       "    <tr style=\"text-align: right;\">\n",
       "      <th></th>\n",
       "      <th>excluded</th>\n",
       "      <th>count</th>\n",
       "    </tr>\n",
       "  </thead>\n",
       "  <tbody>\n",
       "    <tr>\n",
       "      <th>0</th>\n",
       "      <td>None</td>\n",
       "      <td>8556</td>\n",
       "    </tr>\n",
       "    <tr>\n",
       "      <th>1</th>\n",
       "      <td>True</td>\n",
       "      <td>1749</td>\n",
       "    </tr>\n",
       "  </tbody>\n",
       "</table>\n",
       "</div>"
      ],
      "text/plain": [
       "  excluded  count\n",
       "0     None   8556\n",
       "1     True   1749"
      ]
     },
     "execution_count": 49,
     "metadata": {},
     "output_type": "execute_result"
    }
   ],
   "source": [
    "read_sql('select excluded, count(*) from rule_reaction group by excluded', rradb)"
   ]
  }
 ],
 "metadata": {
  "kernelspec": {
   "display_name": "Python 3",
   "language": "python",
   "name": "python3"
  },
  "language_info": {
   "codemirror_mode": {
    "name": "ipython",
    "version": 3
   },
   "file_extension": ".py",
   "mimetype": "text/x-python",
   "name": "python",
   "nbconvert_exporter": "python",
   "pygments_lexer": "ipython3",
   "version": "3.7.3"
  }
 },
 "nbformat": 4,
 "nbformat_minor": 2
}
