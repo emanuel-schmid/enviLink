{
 "cells": [
  {
   "cell_type": "markdown",
   "metadata": {},
   "source": [
    "# Standardization Methods\n",
    "In order to build equivalence classes of compounds, six standardization methods are applied on each compound, repeatedly, until the application has no effect anymore. Prior to standardization, the SMILES of all compounds are normalized by the same routine."
   ]
  },
  {
   "cell_type": "markdown",
   "metadata": {},
   "source": [
    "### Implementation\n",
    "The standardization routine is implemented in Java library PPS-tool-box-0.3.0.jar.<br>"
   ]
  },
  {
   "cell_type": "code",
   "execution_count": 1,
   "metadata": {},
   "outputs": [],
   "source": [
    "import yaml\n",
    "with open(\"config.yaml\", 'r') as stream:\n",
    "    config = yaml.safe_load(stream)\n",
    "DATA = config['datadir']['stds']\n",
    "BIN = config['binaries']"
   ]
  },
  {
   "cell_type": "code",
   "execution_count": 2,
   "metadata": {},
   "outputs": [
    {
     "name": "stdout",
     "output_type": "stream",
     "text": [
      "Usage: ../bin/standardize [-f fields] [-o outfile] [-s standardizer] compounds\n",
      "where\n",
      "- compounds: tab separated file by default id and smiles as columns\n",
      "\n",
      "- fields: comma separated column number list,\n",
      "  e.g. '-f 1,3' for normalization of the first and third column\n",
      "  if omitted the second column will be normalized\n",
      "\n",
      "- outfile: a copy of compounds having normalized smiles \n",
      "  problematic rows are skipped (non normalizable smiles, too few columns)\n",
      "  if omitted 'normalized_compounds.csv' is used\n",
      "\n",
      "- standardizer: for serious standardization \n",
      "  can be a single smirks string or a key word:\n",
      "  - 'basic' -> default standardization\n",
      "  if omitted the compounds will be just normalized\n",
      "\n",
      "\n"
     ]
    }
   ],
   "source": [
    "import subprocess\n",
    "STANDARDIZE = f'{BIN}/standardize'\n",
    "\n",
    "command = f'{STANDARDIZE} -h'\n",
    "ran = subprocess.run(command.split(), capture_output=True)\n",
    "print(ran.stdout.decode())"
   ]
  },
  {
   "cell_type": "markdown",
   "metadata": {},
   "source": [
    "### Normalization\n",
    "The _normalization_ routine essentially removes co-enzyme A from the compound in order to avoid a multitude of predicted reactions starting from CoA that are of little interest with regard to linking bt-rules to database reactions. Different from the standardization methods listed below, _normalization_ is not used to build equivalence relationships between compounds but to generate unique identifiers for each compound in the first place."
   ]
  },
  {
   "cell_type": "code",
   "execution_count": 3,
   "metadata": {},
   "outputs": [
    {
     "data": {
      "text/html": [
       "<table border=\"1\" class=\"dataframe\">\n",
       "  <thead>\n",
       "    <tr style=\"text-align: right;\">\n",
       "      <th></th>\n",
       "      <th>rule</th>\n",
       "      <th>SMIRKS representation</th>\n",
       "      <th>img</th>\n",
       "    </tr>\n",
       "  </thead>\n",
       "  <tbody>\n",
       "    <tr>\n",
       "      <th>0</th>\n",
       "      <td>CutCoEnzymeAOff</td>\n",
       "      <td>CC(C)(COP(O)(=O)OP(O)(=O)OCC1OC(C(O)C1OP(O)(O)=O)n1cnc2c(N)ncnc12)C(O)C(=O)NCCC(=O)NCCS[$(*):1]>>[O-][$(*):1]</td>\n",
       "      <td><img src=\"https://o3pps.ethz.ch/o3pps-server/convert/?smiles=CC%28C%29%28COP%28O%29%28%3DO%29OP%28O%29%28%3DO%29OCC1OC%28C%28O%29C1OP%28O%29%28O%29%3DO%29n1cnc2c%28N%29ncnc12%29C%28O%29C%28%3DO%29NCCC%28%3DO%29NCCS%5B%24%28%2A%29%3A1%5D%3E%3E%5BO-%5D%5B%24%28%2A%29%3A1%5D\"/></td>\n",
       "    </tr>\n",
       "  </tbody>\n",
       "</table>"
      ],
      "text/plain": [
       "<IPython.core.display.HTML object>"
      ]
     },
     "execution_count": 3,
     "metadata": {},
     "output_type": "execute_result"
    }
   ],
   "source": [
    "from pandas import read_csv, set_option\n",
    "from IPython.display import Image, HTML\n",
    "from urllib.parse import quote\n",
    "\n",
    "def show_molecules(mol):\n",
    "    if mol.__class__ is list:\n",
    "        mol = \".\".join(mol)\n",
    "    return f'<img src=\"https://o3pps.ethz.ch/o3pps-server/convert/?smiles={quote(mol)}\"/>'\n",
    "\n",
    "cut_coa_rules = read_csv(f'{DATA}/cut_coa_rules.csv')\n",
    "set_option('display.max_colwidth', -1)\n",
    "cut_coa_rules['img'] = cut_coa_rules.apply(lambda row: show_molecules(row['SMIRKS representation']), axis=1)\n",
    "HTML(cut_coa_rules.to_html(escape=False))"
   ]
  },
  {
   "cell_type": "markdown",
   "metadata": {},
   "source": [
    "## The Six Standardization Methods\n",
    "### 1. basic\n",
    "The _basic_ standardization consists of a collection of SMIRKS-based rules that are applied to a given compound by eventually running the ```ambit2.smarts.SMIRKSReaction``` on a ```org.openscience.cdk.interfaces.IAtomContainer``` built from the compound's SMILES representation.<br>\n",
    "These are the individual rules:"
   ]
  },
  {
   "cell_type": "code",
   "execution_count": 4,
   "metadata": {},
   "outputs": [
    {
     "data": {
      "text/html": [
       "<table border=\"1\" class=\"dataframe\">\n",
       "  <thead>\n",
       "    <tr style=\"text-align: right;\">\n",
       "      <th></th>\n",
       "      <th>rule</th>\n",
       "      <th>SMIRKS representation</th>\n",
       "      <th>img</th>\n",
       "    </tr>\n",
       "  </thead>\n",
       "  <tbody>\n",
       "    <tr>\n",
       "      <th>0</th>\n",
       "      <td>ammoniumstandardization</td>\n",
       "      <td>[H][N+:1]([H])([H])[#6:2]>>[H][#7:1]([H])-[#6:2]</td>\n",
       "      <td><img src=\"https://o3pps.ethz.ch/o3pps-server/convert/?smiles=%5BH%5D%5BN%2B%3A1%5D%28%5BH%5D%29%28%5BH%5D%29%5B%236%3A2%5D%3E%3E%5BH%5D%5B%237%3A1%5D%28%5BH%5D%29-%5B%236%3A2%5D\"/></td>\n",
       "    </tr>\n",
       "    <tr>\n",
       "      <th>1</th>\n",
       "      <td>cyanate</td>\n",
       "      <td>[H][#8:1][C:2]#[N:3]>>[#8-:1][C:2]#[N:3]</td>\n",
       "      <td><img src=\"https://o3pps.ethz.ch/o3pps-server/convert/?smiles=%5BH%5D%5B%238%3A1%5D%5BC%3A2%5D%23%5BN%3A3%5D%3E%3E%5B%238-%3A1%5D%5BC%3A2%5D%23%5BN%3A3%5D\"/></td>\n",
       "    </tr>\n",
       "    <tr>\n",
       "      <th>2</th>\n",
       "      <td>deprotonatecarboxyls</td>\n",
       "      <td>[H][#8:1]-[#6:2]=[O:3]>>[#8-:1]-[#6:2]=[O:3]</td>\n",
       "      <td><img src=\"https://o3pps.ethz.ch/o3pps-server/convert/?smiles=%5BH%5D%5B%238%3A1%5D-%5B%236%3A2%5D%3D%5BO%3A3%5D%3E%3E%5B%238-%3A1%5D-%5B%236%3A2%5D%3D%5BO%3A3%5D\"/></td>\n",
       "    </tr>\n",
       "    <tr>\n",
       "      <th>3</th>\n",
       "      <td>forNOOH</td>\n",
       "      <td>[H][#8:1]-[#7+:2](-[*:3])=[O:4]>>[#8-:1]-[#7+:2](-[*:3])=[O:4]</td>\n",
       "      <td><img src=\"https://o3pps.ethz.ch/o3pps-server/convert/?smiles=%5BH%5D%5B%238%3A1%5D-%5B%237%2B%3A2%5D%28-%5B%2A%3A3%5D%29%3D%5BO%3A4%5D%3E%3E%5B%238-%3A1%5D-%5B%237%2B%3A2%5D%28-%5B%2A%3A3%5D%29%3D%5BO%3A4%5D\"/></td>\n",
       "    </tr>\n",
       "    <tr>\n",
       "      <th>4</th>\n",
       "      <td>Hydroxylprotonation</td>\n",
       "      <td>[#6;A:1][#6:2](-[#8-:3])=[#6;A:4]>>[#6:1]-[#6:2](-[#8:3][H])=[#6;A:4]</td>\n",
       "      <td><img src=\"https://o3pps.ethz.ch/o3pps-server/convert/?smiles=%5B%236%3BA%3A1%5D%5B%236%3A2%5D%28-%5B%238-%3A3%5D%29%3D%5B%236%3BA%3A4%5D%3E%3E%5B%236%3A1%5D-%5B%236%3A2%5D%28-%5B%238%3A3%5D%5BH%5D%29%3D%5B%236%3BA%3A4%5D\"/></td>\n",
       "    </tr>\n",
       "    <tr>\n",
       "      <th>5</th>\n",
       "      <td>phosphatedeprotonation</td>\n",
       "      <td>[H][#8:1]-[$([#15]);!$(P([O-])):2]>>[#8-:1]-[#15:2]</td>\n",
       "      <td><img src=\"https://o3pps.ethz.ch/o3pps-server/convert/?smiles=%5BH%5D%5B%238%3A1%5D-%5B%24%28%5B%2315%5D%29%3B%21%24%28P%28%5BO-%5D%29%29%3A2%5D%3E%3E%5B%238-%3A1%5D-%5B%2315%3A2%5D\"/></td>\n",
       "    </tr>\n",
       "    <tr>\n",
       "      <th>6</th>\n",
       "      <td>PicricAcid</td>\n",
       "      <td>[H][#8:1]-[c:2]1[c:3][c:4][c:5]([c:6][c:7]1-[#7+:8](-[#8-:9])=[O:10])-[#7+:11](-[#8-:12])=[O:13]>>[#8-:1]-[c:2]1[c:3][c:4][c:5]([c:6][c:7]1-[#7+:8](-[#8-:9])=[O:10])-[#7+:11](-[#8-:12])=[O:13]</td>\n",
       "      <td><img src=\"https://o3pps.ethz.ch/o3pps-server/convert/?smiles=%5BH%5D%5B%238%3A1%5D-%5Bc%3A2%5D1%5Bc%3A3%5D%5Bc%3A4%5D%5Bc%3A5%5D%28%5Bc%3A6%5D%5Bc%3A7%5D1-%5B%237%2B%3A8%5D%28-%5B%238-%3A9%5D%29%3D%5BO%3A10%5D%29-%5B%237%2B%3A11%5D%28-%5B%238-%3A12%5D%29%3D%5BO%3A13%5D%3E%3E%5B%238-%3A1%5D-%5Bc%3A2%5D1%5Bc%3A3%5D%5Bc%3A4%5D%5Bc%3A5%5D%28%5Bc%3A6%5D%5Bc%3A7%5D1-%5B%237%2B%3A8%5D%28-%5B%238-%3A9%5D%29%3D%5BO%3A10%5D%29-%5B%237%2B%3A11%5D%28-%5B%238-%3A12%5D%29%3D%5BO%3A13%5D\"/></td>\n",
       "    </tr>\n",
       "    <tr>\n",
       "      <th>7</th>\n",
       "      <td>Sulfate1</td>\n",
       "      <td>[H][#8:1][S:2]([#8:3][H])(=[O:4])=[O:5]>>[#8-:1][S:2]([#8-:3])(=[O:4])=[O:5]</td>\n",
       "      <td><img src=\"https://o3pps.ethz.ch/o3pps-server/convert/?smiles=%5BH%5D%5B%238%3A1%5D%5BS%3A2%5D%28%5B%238%3A3%5D%5BH%5D%29%28%3D%5BO%3A4%5D%29%3D%5BO%3A5%5D%3E%3E%5B%238-%3A1%5D%5BS%3A2%5D%28%5B%238-%3A3%5D%29%28%3D%5BO%3A4%5D%29%3D%5BO%3A5%5D\"/></td>\n",
       "    </tr>\n",
       "    <tr>\n",
       "      <th>8</th>\n",
       "      <td>Sulfate2</td>\n",
       "      <td>[#6:1]-[#8:2][S:3]([#8:4][H])(=[O:5])=[O:6]>>[#6:1]-[#8:2][S:3]([#8-:4])(=[O:5])=[O:6]</td>\n",
       "      <td><img src=\"https://o3pps.ethz.ch/o3pps-server/convert/?smiles=%5B%236%3A1%5D-%5B%238%3A2%5D%5BS%3A3%5D%28%5B%238%3A4%5D%5BH%5D%29%28%3D%5BO%3A5%5D%29%3D%5BO%3A6%5D%3E%3E%5B%236%3A1%5D-%5B%238%3A2%5D%5BS%3A3%5D%28%5B%238-%3A4%5D%29%28%3D%5BO%3A5%5D%29%3D%5BO%3A6%5D\"/></td>\n",
       "    </tr>\n",
       "    <tr>\n",
       "      <th>9</th>\n",
       "      <td>Sulfate3</td>\n",
       "      <td>[H][#8:3][S:2]([#6:1])(=[O:4])=[O:5]>>[#6:1][S:2]([#8-:3])(=[O:4])=[O:5]</td>\n",
       "      <td><img src=\"https://o3pps.ethz.ch/o3pps-server/convert/?smiles=%5BH%5D%5B%238%3A3%5D%5BS%3A2%5D%28%5B%236%3A1%5D%29%28%3D%5BO%3A4%5D%29%3D%5BO%3A5%5D%3E%3E%5B%236%3A1%5D%5BS%3A2%5D%28%5B%238-%3A3%5D%29%28%3D%5BO%3A4%5D%29%3D%5BO%3A5%5D\"/></td>\n",
       "    </tr>\n",
       "    <tr>\n",
       "      <th>10</th>\n",
       "      <td>Transform_c1353forSOOH</td>\n",
       "      <td>[H][#8:1][S:2]([*:3])=[O:4]>>[#8-:1][S:2]([*:3])=[O:4]</td>\n",
       "      <td><img src=\"https://o3pps.ethz.ch/o3pps-server/convert/?smiles=%5BH%5D%5B%238%3A1%5D%5BS%3A2%5D%28%5B%2A%3A3%5D%29%3D%5BO%3A4%5D%3E%3E%5B%238-%3A1%5D%5BS%3A2%5D%28%5B%2A%3A3%5D%29%3D%5BO%3A4%5D\"/></td>\n",
       "    </tr>\n",
       "  </tbody>\n",
       "</table>"
      ],
      "text/plain": [
       "<IPython.core.display.HTML object>"
      ]
     },
     "execution_count": 4,
     "metadata": {},
     "output_type": "execute_result"
    }
   ],
   "source": [
    "basic_standardization_rules = read_csv(f'{DATA}/basic_standardization_rules.csv')\n",
    "basic_standardization_rules['img'] = basic_standardization_rules.apply(lambda row: show_molecules(row['SMIRKS representation']), axis=1)\n",
    "HTML(basic_standardization_rules.to_html(escape=False))"
   ]
  },
  {
   "cell_type": "markdown",
   "metadata": {},
   "source": [
    "### 2. flatten\n",
    "The _flatten_ standardization simply removes all stereo conformational '@' characters from the molecules SMILES string and thus projects it to its 2-D representation."
   ]
  },
  {
   "cell_type": "markdown",
   "metadata": {},
   "source": [
    "### 3. enhanced\n",
    "The _enhanced_ standardization is rule-based, like _basic_. It consists of the _basic_ rules and an additional rule for complete phosphate deprotonation."
   ]
  },
  {
   "cell_type": "code",
   "execution_count": 5,
   "metadata": {},
   "outputs": [
    {
     "data": {
      "text/html": [
       "<table border=\"1\" class=\"dataframe\">\n",
       "  <thead>\n",
       "    <tr style=\"text-align: right;\">\n",
       "      <th></th>\n",
       "      <th>rule</th>\n",
       "      <th>SMIRKS representation</th>\n",
       "      <th>img</th>\n",
       "    </tr>\n",
       "  </thead>\n",
       "  <tbody>\n",
       "    <tr>\n",
       "      <th>0</th>\n",
       "      <td>fullPhosphatedeprotonation</td>\n",
       "      <td>[H][#8:1]-[#15:2]>>[#8-:1]-[#15:2]</td>\n",
       "      <td><img src=\"https://o3pps.ethz.ch/o3pps-server/convert/?smiles=%5BH%5D%5B%238%3A1%5D-%5B%2315%3A2%5D%3E%3E%5B%238-%3A1%5D-%5B%2315%3A2%5D\"/></td>\n",
       "    </tr>\n",
       "  </tbody>\n",
       "</table>"
      ],
      "text/plain": [
       "<IPython.core.display.HTML object>"
      ]
     },
     "execution_count": 5,
     "metadata": {},
     "output_type": "execute_result"
    }
   ],
   "source": [
    "enhanced_standardization_rules = read_csv(f'{DATA}/enhanced_standardization_rules.csv')\n",
    "enhanced_standardization_rules['img'] = enhanced_standardization_rules.apply(lambda row: show_molecules(row['SMIRKS representation']), axis=1)\n",
    "HTML(enhanced_standardization_rules.to_html(escape=False))"
   ]
  },
  {
   "cell_type": "markdown",
   "metadata": {},
   "source": [
    "### 4. cistrans\n",
    "The _cistrans_ standardization simply removes all cis-trans stereochemical informations ('/' and '\\\\') from the molecule's SMILES string."
   ]
  },
  {
   "cell_type": "markdown",
   "metadata": {},
   "source": [
    "### 5. exotic\n",
    "The _exotic_ standardization is again rule-based. It consists of the _enhanced_ rules and an additional rule for deprotonation of thio phosphates."
   ]
  },
  {
   "cell_type": "code",
   "execution_count": 6,
   "metadata": {},
   "outputs": [
    {
     "data": {
      "text/html": [
       "<table border=\"1\" class=\"dataframe\">\n",
       "  <thead>\n",
       "    <tr style=\"text-align: right;\">\n",
       "      <th></th>\n",
       "      <th>rule</th>\n",
       "      <th>SMIRKS representation</th>\n",
       "      <th>img</th>\n",
       "    </tr>\n",
       "  </thead>\n",
       "  <tbody>\n",
       "    <tr>\n",
       "      <th>0</th>\n",
       "      <td>ThioPhosphate1</td>\n",
       "      <td>[H][S:1]-[#15:2]=[$([#16]),$([#8]):3]>>[S-:1]-[#15:2]=[$([#16]),$([#8]):3]</td>\n",
       "      <td><img src=\"https://o3pps.ethz.ch/o3pps-server/convert/?smiles=%5BH%5D%5BS%3A1%5D-%5B%2315%3A2%5D%3D%5B%24%28%5B%2316%5D%29%2C%24%28%5B%238%5D%29%3A3%5D%3E%3E%5BS-%3A1%5D-%5B%2315%3A2%5D%3D%5B%24%28%5B%2316%5D%29%2C%24%28%5B%238%5D%29%3A3%5D\"/></td>\n",
       "    </tr>\n",
       "  </tbody>\n",
       "</table>"
      ],
      "text/plain": [
       "<IPython.core.display.HTML object>"
      ]
     },
     "execution_count": 6,
     "metadata": {},
     "output_type": "execute_result"
    }
   ],
   "source": [
    "exotic_standardization_rules = read_csv(f'{DATA}/exotic_standardization_rules.csv')\n",
    "exotic_standardization_rules['img'] = exotic_standardization_rules.apply(lambda row: show_molecules(row['SMIRKS representation']), axis=1)\n",
    "HTML(exotic_standardization_rules.to_html(escape=False))"
   ]
  },
  {
   "cell_type": "markdown",
   "metadata": {},
   "source": [
    "### 6. enolketo\n",
    "The _enolketo_ standardization is rule-based and consists of a single rule for transforming molecules from their enol to the corresponding keto form."
   ]
  },
  {
   "cell_type": "code",
   "execution_count": 7,
   "metadata": {},
   "outputs": [
    {
     "data": {
      "text/html": [
       "<table border=\"1\" class=\"dataframe\">\n",
       "  <thead>\n",
       "    <tr style=\"text-align: right;\">\n",
       "      <th></th>\n",
       "      <th>rule</th>\n",
       "      <th>SMIRKS representation</th>\n",
       "      <th>img</th>\n",
       "    </tr>\n",
       "  </thead>\n",
       "  <tbody>\n",
       "    <tr>\n",
       "      <th>0</th>\n",
       "      <td>enol2Ketone</td>\n",
       "      <td>[H][#8:2]-[#6:3]=[#6:1]>>[#6:1]-[#6:3]=[O:2]</td>\n",
       "      <td><img src=\"https://o3pps.ethz.ch/o3pps-server/convert/?smiles=%5BH%5D%5B%238%3A2%5D-%5B%236%3A3%5D%3D%5B%236%3A1%5D%3E%3E%5B%236%3A1%5D-%5B%236%3A3%5D%3D%5BO%3A2%5D\"/></td>\n",
       "    </tr>\n",
       "  </tbody>\n",
       "</table>"
      ],
      "text/plain": [
       "<IPython.core.display.HTML object>"
      ]
     },
     "execution_count": 7,
     "metadata": {},
     "output_type": "execute_result"
    }
   ],
   "source": [
    "enolketo_standardization_rules = read_csv(f'{DATA}/enolketo_standardization_rules.csv')\n",
    "enolketo_standardization_rules['img'] = enolketo_standardization_rules.apply(lambda row: show_molecules(row['SMIRKS representation']), axis=1)\n",
    "HTML(enolketo_standardization_rules.to_html(escape=False))"
   ]
  }
 ],
 "metadata": {
  "kernelspec": {
   "display_name": "Python 3",
   "language": "python",
   "name": "python3"
  },
  "language_info": {
   "codemirror_mode": {
    "name": "ipython",
    "version": 3
   },
   "file_extension": ".py",
   "mimetype": "text/x-python",
   "name": "python",
   "nbconvert_exporter": "python",
   "pygments_lexer": "ipython3",
   "version": "3.7.3"
  }
 },
 "nbformat": 4,
 "nbformat_minor": 2
}
