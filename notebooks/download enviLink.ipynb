{
 "cells": [
  {
   "cell_type": "markdown",
   "metadata": {},
   "source": [
    "# Download _enviLink_ from [envipath.org](https://envipath.org)"
   ]
  },
  {
   "cell_type": "markdown",
   "metadata": {},
   "source": [
    "#### envipath Client\n",
    "_envipath.org_ is accessed through its REST interface. We use _envipath-api_, a python wrapper for the REST interface that simplifies the calls and is easy to use. The main class of the _envipath-api_ module is _EnviPathClient_, which establishes a session with _envipath.org_ to read data."
   ]
  },
  {
   "cell_type": "code",
   "execution_count": 1,
   "metadata": {},
   "outputs": [],
   "source": [
    "from envirest import EnviPathClient\n",
    "client = EnviPathClient('envipath.org')"
   ]
  },
  {
   "cell_type": "markdown",
   "metadata": {},
   "source": [
    "#### Download\n",
    "The _EnviPathClient_ provides a method <i>get_enviLink</i>, which downloads the entire _enviLink_ data into a dictionary that can easily be converted into a _pandas.DataFrame_."
   ]
  },
  {
   "cell_type": "code",
   "execution_count": 2,
   "metadata": {},
   "outputs": [
    {
     "name": "stdout",
     "output_type": "stream",
     "text": [
      "complete enviLink download in 100.1737585067749 seconds\n"
     ]
    },
    {
     "data": {
      "text/plain": [
       "(2655, 8)"
      ]
     },
     "execution_count": 2,
     "metadata": {},
     "output_type": "execute_result"
    }
   ],
   "source": [
    "from time import time\n",
    "import pandas as pd\n",
    "now = time()\n",
    "enviLink = pd.DataFrame(client.get_enviLink())\n",
    "print(f'complete enviLink download in {time()-now} seconds')\n",
    "enviLink.to_csv('../data/enviLink.tsv', sep=\"\\t\", index=None)\n",
    "enviLink.shape"
   ]
  },
  {
   "cell_type": "code",
   "execution_count": 3,
   "metadata": {},
   "outputs": [
    {
     "data": {
      "text/html": [
       "<div>\n",
       "<style scoped>\n",
       "    .dataframe tbody tr th:only-of-type {\n",
       "        vertical-align: middle;\n",
       "    }\n",
       "\n",
       "    .dataframe tbody tr th {\n",
       "        vertical-align: top;\n",
       "    }\n",
       "\n",
       "    .dataframe thead th {\n",
       "        text-align: right;\n",
       "    }\n",
       "</style>\n",
       "<table border=\"1\" class=\"dataframe\">\n",
       "  <thead>\n",
       "    <tr style=\"text-align: right;\">\n",
       "      <th></th>\n",
       "      <th>3rd_lvl</th>\n",
       "      <th>ecNumber</th>\n",
       "      <th>enzyme</th>\n",
       "      <th>evidence</th>\n",
       "      <th>evidence_link</th>\n",
       "      <th>id</th>\n",
       "      <th>linkingMethod</th>\n",
       "      <th>rule</th>\n",
       "    </tr>\n",
       "  </thead>\n",
       "  <tbody>\n",
       "    <tr>\n",
       "      <th>0</th>\n",
       "      <td>1.1.1.-</td>\n",
       "      <td>1.1.1.31</td>\n",
       "      <td>3-hydroxyisobutyrate dehydrogenase</td>\n",
       "      <td>R02047</td>\n",
       "      <td>https://www.genome.jp/dbget-bin/www_bget?rn:R0...</td>\n",
       "      <td>https://envipath.org/package/32de3cf4-e3e6-416...</td>\n",
       "      <td>KEGG 2020-10-21 enviLink</td>\n",
       "      <td>bt0001</td>\n",
       "    </tr>\n",
       "    <tr>\n",
       "      <th>1</th>\n",
       "      <td>1.1.1.-</td>\n",
       "      <td>1.1.1.31</td>\n",
       "      <td>3-hydroxyisobutyrate dehydrogenase</td>\n",
       "      <td>R05066</td>\n",
       "      <td>https://www.genome.jp/dbget-bin/www_bget?rn:R0...</td>\n",
       "      <td>https://envipath.org/package/32de3cf4-e3e6-416...</td>\n",
       "      <td>KEGG 2020-10-21 enviLink</td>\n",
       "      <td>bt0001</td>\n",
       "    </tr>\n",
       "    <tr>\n",
       "      <th>2</th>\n",
       "      <td>1.1.1.-</td>\n",
       "      <td>1.1.1.190</td>\n",
       "      <td>indole-3-acetaldehyde reductase (NADH)</td>\n",
       "      <td>R02679</td>\n",
       "      <td>https://www.genome.jp/dbget-bin/www_bget?rn:R0...</td>\n",
       "      <td>https://envipath.org/package/32de3cf4-e3e6-416...</td>\n",
       "      <td>KEGG 2020-10-21 enviLink</td>\n",
       "      <td>bt0001</td>\n",
       "    </tr>\n",
       "    <tr>\n",
       "      <th>3</th>\n",
       "      <td>1.1.3.-</td>\n",
       "      <td>1.1.3.39</td>\n",
       "      <td>nucleoside oxidase (H2O2-forming)</td>\n",
       "      <td>R05696</td>\n",
       "      <td>https://www.genome.jp/dbget-bin/www_bget?rn:R0...</td>\n",
       "      <td>https://envipath.org/package/32de3cf4-e3e6-416...</td>\n",
       "      <td>KEGG 2020-10-21 enviLink</td>\n",
       "      <td>bt0001</td>\n",
       "    </tr>\n",
       "    <tr>\n",
       "      <th>4</th>\n",
       "      <td>1.1.1.-</td>\n",
       "      <td>1.1.1.354</td>\n",
       "      <td>farnesol dehydrogenase (NAD+)</td>\n",
       "      <td>R10412</td>\n",
       "      <td>https://www.genome.jp/dbget-bin/www_bget?rn:R1...</td>\n",
       "      <td>https://envipath.org/package/32de3cf4-e3e6-416...</td>\n",
       "      <td>KEGG 2020-10-21 enviLink</td>\n",
       "      <td>bt0001</td>\n",
       "    </tr>\n",
       "  </tbody>\n",
       "</table>\n",
       "</div>"
      ],
      "text/plain": [
       "   3rd_lvl   ecNumber                                  enzyme evidence  \\\n",
       "0  1.1.1.-   1.1.1.31      3-hydroxyisobutyrate dehydrogenase   R02047   \n",
       "1  1.1.1.-   1.1.1.31      3-hydroxyisobutyrate dehydrogenase   R05066   \n",
       "2  1.1.1.-  1.1.1.190  indole-3-acetaldehyde reductase (NADH)   R02679   \n",
       "3  1.1.3.-   1.1.3.39       nucleoside oxidase (H2O2-forming)   R05696   \n",
       "4  1.1.1.-  1.1.1.354           farnesol dehydrogenase (NAD+)   R10412   \n",
       "\n",
       "                                       evidence_link  \\\n",
       "0  https://www.genome.jp/dbget-bin/www_bget?rn:R0...   \n",
       "1  https://www.genome.jp/dbget-bin/www_bget?rn:R0...   \n",
       "2  https://www.genome.jp/dbget-bin/www_bget?rn:R0...   \n",
       "3  https://www.genome.jp/dbget-bin/www_bget?rn:R0...   \n",
       "4  https://www.genome.jp/dbget-bin/www_bget?rn:R1...   \n",
       "\n",
       "                                                  id  \\\n",
       "0  https://envipath.org/package/32de3cf4-e3e6-416...   \n",
       "1  https://envipath.org/package/32de3cf4-e3e6-416...   \n",
       "2  https://envipath.org/package/32de3cf4-e3e6-416...   \n",
       "3  https://envipath.org/package/32de3cf4-e3e6-416...   \n",
       "4  https://envipath.org/package/32de3cf4-e3e6-416...   \n",
       "\n",
       "              linkingMethod    rule  \n",
       "0  KEGG 2020-10-21 enviLink  bt0001  \n",
       "1  KEGG 2020-10-21 enviLink  bt0001  \n",
       "2  KEGG 2020-10-21 enviLink  bt0001  \n",
       "3  KEGG 2020-10-21 enviLink  bt0001  \n",
       "4  KEGG 2020-10-21 enviLink  bt0001  "
      ]
     },
     "execution_count": 3,
     "metadata": {},
     "output_type": "execute_result"
    }
   ],
   "source": [
    "enviLink.head()"
   ]
  }
 ],
 "metadata": {
  "kernelspec": {
   "display_name": "Python 3",
   "language": "python",
   "name": "python3"
  },
  "language_info": {
   "codemirror_mode": {
    "name": "ipython",
    "version": 3
   },
   "file_extension": ".py",
   "mimetype": "text/x-python",
   "name": "python",
   "nbconvert_exporter": "python",
   "pygments_lexer": "ipython3",
   "version": "3.7.3"
  }
 },
 "nbformat": 4,
 "nbformat_minor": 2
}
