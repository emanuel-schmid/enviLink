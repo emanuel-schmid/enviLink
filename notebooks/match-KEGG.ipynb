{
 "cells": [
  {
   "cell_type": "markdown",
   "metadata": {},
   "source": [
    "# Matching Algorithm"
   ]
  },
  {
   "cell_type": "markdown",
   "metadata": {},
   "source": [
    "## Table of Content <a class=\"anchor\" id=\"toc\"></a>\n",
    "#### [Summary](#overview)\n",
    "#### Data\n",
    "* [Globals](#globals)\n",
    "\n",
    "#### Pre-Processing\n",
    "* [Identification of Irrelevant Compounds](#irrelevant)\n",
    "* [Identification of Cofactors](#cofactors)\n",
    "\n",
    "#### Processing\n",
    "* [Initialization of the Matching Algorithm](#eqcls)\n",
    "* [Execution of the Matching Algorithm](#spawn)\n",
    "\n",
    "#### Post-Processing\n",
    "* [Match Characterization](#classify)\n",
    "* [Direct Rule-Reaction Association](#rra)\n",
    "\n",
    "## <a class=\"anchor\" id=\"overview\"></a>Summary [$\\Uparrow$](#toc)\n",
    "\n",
    "#### Pre-amble\n",
    "The matching algorithm was built to find matches not only between database reactions and single predicted reactions, but also for sequences of predicted reactions. Furthermore, it matches reactions in both directions, i.e., assuming that the database reaction could also proceed in reverse direction. For completeness, and because it might be useful for readers in other contexts, we present the entire workflow. In the last cell of this notebook, reactions that are matched in forward direction by application of a single rule only are extracted, and this output is what is processed further for generating rule-enzyme links.\n",
    "\n",
    "#### Projection of Substrates and Products to Equivalence Classes\n",
    "Compounds are called equivalent if there is a chain of standardization steps that links one to the other. The assignment of equivalence classes to compounds is part of the initialisation process of the _DataProvider_ object defined in the _rra_-Python library.<br>\n",
    "The matching algorithm then works not on the original database or predicted reactions but on formal reactions that turn equivalence classes of substrates into equivalence classes of products.\n",
    "\n",
    "#### Match Finder\n",
    "With the reactions' substrates and products projected onto equivalence classes and the non-essential compounds removed from the reaction equations, multigeneration biotransformation trees are built from the reactions predicted by the preceding [_in silico_ reaction](in%20silico%20reaction-KEGG.ipynb) step of the workflow. These start from  the substrate of a database reaction to be matched, and follow all the single prediction steps until there is no more rule-based reaction in the database starting from the compounds' equivalence classes that were last added to the tree. \n",
    "\n",
    "After the biotransformation tree has been built for a particular database reaction, the match finder tries to find paths from the  reactions' substrates to the reaction's products and vice versa.<br>\n",
    "If any of the reactions' substrates or products cannot be linked in this way, this yields a \"no match\" outcome. If all of them can be linked, the algorithm looks for minimal sets of edges (predicted reactions) that, on the one hand, cover the full reaction, i.e. comprise all substrates and all products, and, on the other hand, do not overlap, i.e. each substrate and product is covered only once.<br> These minimal sets of edges in the biotransformation tree are considered a _match_. Matches that consist of a single edge (or predicted reaction) and are oriented in the same direction as the database reaction qualify for the last step of the workflow, the [rule-enzyme link](rule-enzyme%20link-KEGG.ipynb).\n",
    "\n",
    "## <a class=\"anchor\" id=\"globals\"></a>Globals [$\\Uparrow$](#toc)\n",
    "#### The Configuration\n",
    "Configuration data, such as credentials to access the worfklow database."
   ]
  },
  {
   "cell_type": "code",
   "execution_count": 1,
   "metadata": {},
   "outputs": [],
   "source": [
    "import yaml\n",
    "with open(\"config.yaml\", 'r') as stream:\n",
    "    config = yaml.safe_load(stream)"
   ]
  },
  {
   "cell_type": "markdown",
   "metadata": {},
   "source": [
    "#### Directories Used in the Workflow"
   ]
  },
  {
   "cell_type": "code",
   "execution_count": 2,
   "metadata": {},
   "outputs": [],
   "source": [
    "DATASET = 'KEGG'\n",
    "DATA = config['datadir'][DATASET]\n",
    "TEMP = config['datadir']['temp']\n",
    "BIN = config['binaries']\n",
    "SRC = config['sources']"
   ]
  },
  {
   "cell_type": "markdown",
   "metadata": {},
   "source": [
    "#### Workflow Database\n",
    "Contains normalized SMILES, rules, reactions to be matched and the predicted reactions from the _in silico_ degradation.<br>\n",
    "The content of the database is the main output from the first step of the workflow and the main input for the second step."
   ]
  },
  {
   "cell_type": "code",
   "execution_count": 3,
   "metadata": {},
   "outputs": [],
   "source": [
    "from sqlalchemy import create_engine\n",
    "database = config['db']\n",
    "DRIVER = database['driver']\n",
    "HOST = database['host']\n",
    "USER = database['user']\n",
    "DB = database['name'][DATASET]\n",
    "PW = database['password']\n",
    "rradb = create_engine(f'{DRIVER}://{USER}:{PW}@{HOST}/{DB}')"
   ]
  },
  {
   "cell_type": "markdown",
   "metadata": {},
   "source": [
    "## <a class=\"anchor\" id=\"irrelevant\"></a>Identification of Irrelevant Compounds [$\\Uparrow$](#toc)\n",
    "\n",
    "Molecules that do not contain carbon, nitrogen or sulfur atoms, and molecules with only one carbon, nitrogen or sulfur atom and no phosphorus atom are not further considered in the matching algorithm. This is because biodegradation rules from envipath are generally written in a form that they will not produce stoichiometrically balanced reaction equations, and often do not explicitely account for the formation of small cleavage products. Hence, in order to enable matching, they need to be removed from the reactions to be matched."
   ]
  },
  {
   "cell_type": "code",
   "execution_count": 4,
   "metadata": {},
   "outputs": [],
   "source": [
    "# compounds involved in unpredicted (data base) reactions\n",
    "from pandas import read_sql\n",
    "irrelevant_candidates = read_sql(\"\"\"\n",
    "    select count(*), compound, smiles\n",
    "    from rrole join nsmiles on compound = id\n",
    "    where reaction in (select reaction from edb_reaction)\n",
    "    group by compound, smiles\n",
    "    order by count(*) desc\n",
    "\"\"\", rradb)"
   ]
  },
  {
   "cell_type": "code",
   "execution_count": 5,
   "metadata": {},
   "outputs": [
    {
     "name": "stdout",
     "output_type": "stream",
     "text": [
      "(61, 3)\n"
     ]
    },
    {
     "data": {
      "text/html": [
       "<div>\n",
       "<style scoped>\n",
       "    .dataframe tbody tr th:only-of-type {\n",
       "        vertical-align: middle;\n",
       "    }\n",
       "\n",
       "    .dataframe tbody tr th {\n",
       "        vertical-align: top;\n",
       "    }\n",
       "\n",
       "    .dataframe thead th {\n",
       "        text-align: right;\n",
       "    }\n",
       "</style>\n",
       "<table border=\"1\" class=\"dataframe\">\n",
       "  <thead>\n",
       "    <tr style=\"text-align: right;\">\n",
       "      <th></th>\n",
       "      <th>count</th>\n",
       "      <th>compound</th>\n",
       "      <th>smiles</th>\n",
       "    </tr>\n",
       "  </thead>\n",
       "  <tbody>\n",
       "    <tr>\n",
       "      <th>0</th>\n",
       "      <td>2198</td>\n",
       "      <td>1</td>\n",
       "      <td>O</td>\n",
       "    </tr>\n",
       "    <tr>\n",
       "      <th>1</th>\n",
       "      <td>1650</td>\n",
       "      <td>6</td>\n",
       "      <td>[H+]</td>\n",
       "    </tr>\n",
       "    <tr>\n",
       "      <th>2</th>\n",
       "      <td>952</td>\n",
       "      <td>9</td>\n",
       "      <td>O=O</td>\n",
       "    </tr>\n",
       "    <tr>\n",
       "      <th>7</th>\n",
       "      <td>531</td>\n",
       "      <td>2</td>\n",
       "      <td>OP(=O)(O)OP(=O)(O)O</td>\n",
       "    </tr>\n",
       "    <tr>\n",
       "      <th>9</th>\n",
       "      <td>462</td>\n",
       "      <td>19</td>\n",
       "      <td>C(=O)=O</td>\n",
       "    </tr>\n",
       "  </tbody>\n",
       "</table>\n",
       "</div>"
      ],
      "text/plain": [
       "   count  compound               smiles\n",
       "0   2198         1                    O\n",
       "1   1650         6                 [H+]\n",
       "2    952         9                  O=O\n",
       "7    531         2  OP(=O)(O)OP(=O)(O)O\n",
       "9    462        19              C(=O)=O"
      ]
     },
     "execution_count": 5,
     "metadata": {},
     "output_type": "execute_result"
    }
   ],
   "source": [
    "irrelevant_compounds = irrelevant_candidates\\\n",
    "[(irrelevant_candidates.smiles.str.count('[CNS]') == 0) | \n",
    " ((irrelevant_candidates.smiles.str.count('[CNS]') == 1) & (irrelevant_candidates.smiles.str.count('P') == 0))]\n",
    "print(irrelevant_compounds.shape)\n",
    "irrelevant_compounds.head()"
   ]
  },
  {
   "cell_type": "code",
   "execution_count": 6,
   "metadata": {},
   "outputs": [
    {
     "data": {
      "text/plain": [
       "(61, 2)"
      ]
     },
     "execution_count": 6,
     "metadata": {},
     "output_type": "execute_result"
    }
   ],
   "source": [
    "known_irrelevant = read_sql('select id from irrelevant', rradb)\n",
    "irrelevant_compounds[~irrelevant_compounds['compound'].isin(known_irrelevant.id)]\\\n",
    "    .rename(columns={'compound':'id'})\\\n",
    "    .loc[:,['id']]\\\n",
    "    .to_sql('irrelevant', rradb, if_exists='append', method='multi', index=None)\n",
    "read_sql('select id, smiles from irrelevant natural join nsmiles', rradb).shape"
   ]
  },
  {
   "cell_type": "markdown",
   "metadata": {},
   "source": [
    "## <a class=\"anchor\" id=\"cofactors\"></a>Identification of Cofactors  [$\\Uparrow$](#toc)\n",
    "The matching algorithm removes substrate-product pairs that are considered to be cofactors in the enzymatic reaction by declaration.\n",
    "```\n",
    "| Cofactors                | KEGG ids          |\n",
    "| ------------------------ | ----------------- |\n",
    "| NAD+ <-> NADH            | C00003 <-> C00004 |\n",
    "| NADP+ <-> NADPH          | C00005 <-> C00006 |\n",
    "| FAD <-> FADH2            | C00016 <-> C01352 |  \n",
    "| ATP <-> ADP              | C00002 <-> C00008 |\n",
    "| GTP <-> GDP              | C00044 <-> C00035 |\n",
    "| UTP <-> UDP              | C00075 <-> C00015 |\n",
    "```"
   ]
  },
  {
   "cell_type": "code",
   "execution_count": 7,
   "metadata": {},
   "outputs": [
    {
     "data": {
      "text/html": [
       "<div>\n",
       "<style scoped>\n",
       "    .dataframe tbody tr th:only-of-type {\n",
       "        vertical-align: middle;\n",
       "    }\n",
       "\n",
       "    .dataframe tbody tr th {\n",
       "        vertical-align: top;\n",
       "    }\n",
       "\n",
       "    .dataframe thead th {\n",
       "        text-align: right;\n",
       "    }\n",
       "</style>\n",
       "<table border=\"1\" class=\"dataframe\">\n",
       "  <thead>\n",
       "    <tr style=\"text-align: right;\">\n",
       "      <th></th>\n",
       "      <th>cofactor</th>\n",
       "      <th>smiles</th>\n",
       "    </tr>\n",
       "  </thead>\n",
       "  <tbody>\n",
       "    <tr>\n",
       "      <th>0</th>\n",
       "      <td>ATP</td>\n",
       "      <td>C([C@@H]1[C@H]([C@H]([C@H](N2C=NC3=C2N=CN=C3N)...</td>\n",
       "    </tr>\n",
       "    <tr>\n",
       "      <th>1</th>\n",
       "      <td>ADP</td>\n",
       "      <td>C([C@@H]1[C@H]([C@H]([C@H](N2C=NC3=C2N=CN=C3N)...</td>\n",
       "    </tr>\n",
       "    <tr>\n",
       "      <th>2</th>\n",
       "      <td>NADH</td>\n",
       "      <td>C1=CN(C=C(C1)C(=O)N)[C@H]2[C@@H]([C@@H]([C@@H]...</td>\n",
       "    </tr>\n",
       "    <tr>\n",
       "      <th>3</th>\n",
       "      <td>NAD+</td>\n",
       "      <td>C1=C[N+](=CC(=C1)C(=O)N)[C@H]2[C@@H]([C@@H]([C...</td>\n",
       "    </tr>\n",
       "    <tr>\n",
       "      <th>4</th>\n",
       "      <td>NADP+</td>\n",
       "      <td>C1=C[N+](=CC(=C1)C(=O)N)[C@H]2[C@@H]([C@@H]([C...</td>\n",
       "    </tr>\n",
       "    <tr>\n",
       "      <th>5</th>\n",
       "      <td>NADPH</td>\n",
       "      <td>C1=CN(C=C(C1)C(=O)N)[C@H]2[C@@H]([C@@H]([C@@H]...</td>\n",
       "    </tr>\n",
       "    <tr>\n",
       "      <th>6</th>\n",
       "      <td>UDP</td>\n",
       "      <td>C1=CN([C@H]2[C@@H]([C@@H]([C@@H](COP(=O)(O)OP(...</td>\n",
       "    </tr>\n",
       "    <tr>\n",
       "      <th>7</th>\n",
       "      <td>UTP</td>\n",
       "      <td>C1=CN([C@H]2[C@@H]([C@@H]([C@@H](COP(=O)(O)OP(...</td>\n",
       "    </tr>\n",
       "    <tr>\n",
       "      <th>8</th>\n",
       "      <td>FAD</td>\n",
       "      <td>CC1=CC2=C(C=C1C)N(C[C@@H]([C@@H]([C@@H](COP(=O...</td>\n",
       "    </tr>\n",
       "    <tr>\n",
       "      <th>9</th>\n",
       "      <td>GDP</td>\n",
       "      <td>C([C@@H]1[C@H]([C@H]([C@H](N2C=NC3=C2N=C(N)NC3...</td>\n",
       "    </tr>\n",
       "    <tr>\n",
       "      <th>10</th>\n",
       "      <td>GTP</td>\n",
       "      <td>C([C@@H]1[C@H]([C@H]([C@H](N2C=NC3=C2N=C(N)NC3...</td>\n",
       "    </tr>\n",
       "    <tr>\n",
       "      <th>11</th>\n",
       "      <td>FADH2</td>\n",
       "      <td>CC1=C(C)C=C2C(=C1)NC3=C(NC(=O)NC3=O)N2C[C@@H](...</td>\n",
       "    </tr>\n",
       "  </tbody>\n",
       "</table>\n",
       "</div>"
      ],
      "text/plain": [
       "   cofactor                                             smiles\n",
       "0       ATP  C([C@@H]1[C@H]([C@H]([C@H](N2C=NC3=C2N=CN=C3N)...\n",
       "1       ADP  C([C@@H]1[C@H]([C@H]([C@H](N2C=NC3=C2N=CN=C3N)...\n",
       "2      NADH  C1=CN(C=C(C1)C(=O)N)[C@H]2[C@@H]([C@@H]([C@@H]...\n",
       "3      NAD+  C1=C[N+](=CC(=C1)C(=O)N)[C@H]2[C@@H]([C@@H]([C...\n",
       "4     NADP+  C1=C[N+](=CC(=C1)C(=O)N)[C@H]2[C@@H]([C@@H]([C...\n",
       "5     NADPH  C1=CN(C=C(C1)C(=O)N)[C@H]2[C@@H]([C@@H]([C@@H]...\n",
       "6       UDP  C1=CN([C@H]2[C@@H]([C@@H]([C@@H](COP(=O)(O)OP(...\n",
       "7       UTP  C1=CN([C@H]2[C@@H]([C@@H]([C@@H](COP(=O)(O)OP(...\n",
       "8       FAD  CC1=CC2=C(C=C1C)N(C[C@@H]([C@@H]([C@@H](COP(=O...\n",
       "9       GDP  C([C@@H]1[C@H]([C@H]([C@H](N2C=NC3=C2N=C(N)NC3...\n",
       "10      GTP  C([C@@H]1[C@H]([C@H]([C@H](N2C=NC3=C2N=C(N)NC3...\n",
       "11    FADH2  CC1=C(C)C=C2C(=C1)NC3=C(NC(=O)NC3=O)N2C[C@@H](..."
      ]
     },
     "execution_count": 7,
     "metadata": {},
     "output_type": "execute_result"
    }
   ],
   "source": [
    "from pandas import read_csv\n",
    "cofactors = read_csv(f'{DATA}/../cofactors.standardized.tsv', sep=\"\\t\", header=None)\n",
    "cofactors.columns = ['keggid', 'smiles', 'name']\n",
    "cofactors['cofactor'] = [n.split(';')[0] for n in cofactors.name]\n",
    "cofactors.loc[:,['cofactor', 'smiles']]"
   ]
  },
  {
   "cell_type": "code",
   "execution_count": 8,
   "metadata": {},
   "outputs": [
    {
     "data": {
      "text/html": [
       "<div>\n",
       "<style scoped>\n",
       "    .dataframe tbody tr th:only-of-type {\n",
       "        vertical-align: middle;\n",
       "    }\n",
       "\n",
       "    .dataframe tbody tr th {\n",
       "        vertical-align: top;\n",
       "    }\n",
       "\n",
       "    .dataframe thead th {\n",
       "        text-align: right;\n",
       "    }\n",
       "</style>\n",
       "<table border=\"1\" class=\"dataframe\">\n",
       "  <thead>\n",
       "    <tr style=\"text-align: right;\">\n",
       "      <th></th>\n",
       "      <th>cofactor_a</th>\n",
       "      <th>cofactor_b</th>\n",
       "      <th>a</th>\n",
       "      <th>b</th>\n",
       "    </tr>\n",
       "  </thead>\n",
       "  <tbody>\n",
       "    <tr>\n",
       "      <th>0</th>\n",
       "      <td>NAD+</td>\n",
       "      <td>NADH</td>\n",
       "      <td>33</td>\n",
       "      <td>32</td>\n",
       "    </tr>\n",
       "    <tr>\n",
       "      <th>1</th>\n",
       "      <td>NADP+</td>\n",
       "      <td>NADPH</td>\n",
       "      <td>36</td>\n",
       "      <td>37</td>\n",
       "    </tr>\n",
       "    <tr>\n",
       "      <th>2</th>\n",
       "      <td>FAD</td>\n",
       "      <td>FADH2</td>\n",
       "      <td>63</td>\n",
       "      <td>354</td>\n",
       "    </tr>\n",
       "    <tr>\n",
       "      <th>3</th>\n",
       "      <td>ATP</td>\n",
       "      <td>ADP</td>\n",
       "      <td>26</td>\n",
       "      <td>28</td>\n",
       "    </tr>\n",
       "    <tr>\n",
       "      <th>4</th>\n",
       "      <td>GTP</td>\n",
       "      <td>GDP</td>\n",
       "      <td>153</td>\n",
       "      <td>151</td>\n",
       "    </tr>\n",
       "    <tr>\n",
       "      <th>5</th>\n",
       "      <td>UTP</td>\n",
       "      <td>UDP</td>\n",
       "      <td>62</td>\n",
       "      <td>60</td>\n",
       "    </tr>\n",
       "  </tbody>\n",
       "</table>\n",
       "</div>"
      ],
      "text/plain": [
       "  cofactor_a cofactor_b    a    b\n",
       "0       NAD+       NADH   33   32\n",
       "1      NADP+      NADPH   36   37\n",
       "2        FAD      FADH2   63  354\n",
       "3        ATP        ADP   26   28\n",
       "4        GTP        GDP  153  151\n",
       "5        UTP        UDP   62   60"
      ]
     },
     "execution_count": 8,
     "metadata": {},
     "output_type": "execute_result"
    }
   ],
   "source": [
    "from pandas import DataFrame\n",
    "cofactors_id = cofactors.merge(read_sql('select id, smiles from nsmiles', rradb), on='smiles').loc[:,['cofactor','id']]\n",
    "\n",
    "cofactor_pairs = [\n",
    "    ['NAD+', 'NADH'],\n",
    "    ['NADP+', 'NADPH'],\n",
    "    ['FAD', 'FADH2'],\n",
    "    ['ATP', 'ADP'],\n",
    "    ['GTP', 'GDP'],\n",
    "    ['UTP', 'UDP'],\n",
    "]\n",
    "cofactor_pairs = DataFrame(cofactor_pairs, columns=['cofactor_a', 'cofactor_b'])\n",
    "cofactor_pairs_id = cofactor_pairs\\\n",
    "    .merge(cofactors_id.rename(columns={'cofactor':'cofactor_a'}), on='cofactor_a').rename(columns={'id':'a'})\\\n",
    "    .merge(cofactors_id.rename(columns={'cofactor':'cofactor_b'}), on='cofactor_b').rename(columns={'id':'b'})\n",
    "cofactor_pairs_id"
   ]
  },
  {
   "cell_type": "code",
   "execution_count": 9,
   "metadata": {},
   "outputs": [
    {
     "data": {
      "text/html": [
       "<div>\n",
       "<style scoped>\n",
       "    .dataframe tbody tr th:only-of-type {\n",
       "        vertical-align: middle;\n",
       "    }\n",
       "\n",
       "    .dataframe tbody tr th {\n",
       "        vertical-align: top;\n",
       "    }\n",
       "\n",
       "    .dataframe thead th {\n",
       "        text-align: right;\n",
       "    }\n",
       "</style>\n",
       "<table border=\"1\" class=\"dataframe\">\n",
       "  <thead>\n",
       "    <tr style=\"text-align: right;\">\n",
       "      <th></th>\n",
       "      <th>a</th>\n",
       "      <th>b</th>\n",
       "    </tr>\n",
       "  </thead>\n",
       "  <tbody>\n",
       "    <tr>\n",
       "      <th>0</th>\n",
       "      <td>33</td>\n",
       "      <td>32</td>\n",
       "    </tr>\n",
       "    <tr>\n",
       "      <th>1</th>\n",
       "      <td>36</td>\n",
       "      <td>37</td>\n",
       "    </tr>\n",
       "    <tr>\n",
       "      <th>2</th>\n",
       "      <td>63</td>\n",
       "      <td>354</td>\n",
       "    </tr>\n",
       "    <tr>\n",
       "      <th>3</th>\n",
       "      <td>26</td>\n",
       "      <td>28</td>\n",
       "    </tr>\n",
       "    <tr>\n",
       "      <th>4</th>\n",
       "      <td>153</td>\n",
       "      <td>151</td>\n",
       "    </tr>\n",
       "    <tr>\n",
       "      <th>5</th>\n",
       "      <td>62</td>\n",
       "      <td>60</td>\n",
       "    </tr>\n",
       "  </tbody>\n",
       "</table>\n",
       "</div>"
      ],
      "text/plain": [
       "     a    b\n",
       "0   33   32\n",
       "1   36   37\n",
       "2   63  354\n",
       "3   26   28\n",
       "4  153  151\n",
       "5   62   60"
      ]
     },
     "execution_count": 9,
     "metadata": {},
     "output_type": "execute_result"
    }
   ],
   "source": [
    "rradb.execute('delete from transition')\n",
    "cofactor_pairs_id.loc[:,['a','b']].to_sql('transition', rradb, index=None, if_exists='append', method='multi')\n",
    "read_sql('select * from transition', rradb)"
   ]
  },
  {
   "cell_type": "markdown",
   "metadata": {},
   "source": [
    "## <a class=\"anchor\" id=\"eqcls\"></a>Initialization of the Matching Algorithm [$\\Uparrow$](#toc)\n",
    "\n",
    "By creating a `DataProvider` object, the matching algorithm is initialized."
   ]
  },
  {
   "cell_type": "code",
   "execution_count": 10,
   "metadata": {},
   "outputs": [],
   "source": [
    "import sys\n",
    "sys.path.append(f'{SRC}')\n",
    "from rra import DataProvider\n",
    "dp = DataProvider(\n",
    "    dbname=DB,\n",
    "    driver=DRIVER,\n",
    "    host=HOST,\n",
    "    user=USER,\n",
    "    password=PW,\n",
    "    standardizer_ids=None\n",
    ")"
   ]
  },
  {
   "cell_type": "markdown",
   "metadata": {},
   "source": [
    "During the creation of a `DataProvider` object, the reactions from the database are transformed into \"meta reactions\" where both, substrates and products, are not single molecules but equivalence classes of molecules. Depending on the size of the database this transformation can take a while.<br>\n",
    "Also, non-essential compounds, i.e. irrelevant compounds and co-factors, are removed from the reactions during the object creation.\n",
    "\n",
    "<b>Remark:</b> By explicitly listing the standardizers' ids in the constructor's argument, it is possible to filter for the standardizers upon which the equivalence relationship is based. If the argument is omitted, all standardizers are considered."
   ]
  },
  {
   "cell_type": "markdown",
   "metadata": {},
   "source": [
    "## <a class=\"anchor\" id=\"spawn\"></a>Execution of the Matching Algorithm [$\\Uparrow$](#toc)\n",
    "\n",
    "The matching algorithm is implemented in the _rra_ Python library and is run by calling the <i>match_reaction</i> method thereof for each reaction of the dataset."
   ]
  },
  {
   "cell_type": "code",
   "execution_count": 11,
   "metadata": {},
   "outputs": [
    {
     "data": {
      "text/html": [
       "<div>\n",
       "<style scoped>\n",
       "    .dataframe tbody tr th:only-of-type {\n",
       "        vertical-align: middle;\n",
       "    }\n",
       "\n",
       "    .dataframe tbody tr th {\n",
       "        vertical-align: top;\n",
       "    }\n",
       "\n",
       "    .dataframe thead th {\n",
       "        text-align: right;\n",
       "    }\n",
       "</style>\n",
       "<table border=\"1\" class=\"dataframe\">\n",
       "  <thead>\n",
       "    <tr style=\"text-align: right;\">\n",
       "      <th></th>\n",
       "      <th>reaction</th>\n",
       "      <th>envipath_url</th>\n",
       "    </tr>\n",
       "  </thead>\n",
       "  <tbody>\n",
       "    <tr>\n",
       "      <th>0</th>\n",
       "      <td>1</td>\n",
       "      <td>R00004</td>\n",
       "    </tr>\n",
       "    <tr>\n",
       "      <th>1</th>\n",
       "      <td>2</td>\n",
       "      <td>R00011</td>\n",
       "    </tr>\n",
       "    <tr>\n",
       "      <th>2</th>\n",
       "      <td>3</td>\n",
       "      <td>R00025</td>\n",
       "    </tr>\n",
       "    <tr>\n",
       "      <th>3</th>\n",
       "      <td>4</td>\n",
       "      <td>R00033</td>\n",
       "    </tr>\n",
       "    <tr>\n",
       "      <th>4</th>\n",
       "      <td>5</td>\n",
       "      <td>R00072</td>\n",
       "    </tr>\n",
       "  </tbody>\n",
       "</table>\n",
       "</div>"
      ],
      "text/plain": [
       "   reaction envipath_url\n",
       "0         1       R00004\n",
       "1         2       R00011\n",
       "2         3       R00025\n",
       "3         4       R00033\n",
       "4         5       R00072"
      ]
     },
     "execution_count": 11,
     "metadata": {},
     "output_type": "execute_result"
    }
   ],
   "source": [
    "dataset_reactions = read_sql('''\n",
    "select reaction, envipath_url\n",
    "from edb_reaction\n",
    "''', rradb)\n",
    "dataset_reactions.head()"
   ]
  },
  {
   "cell_type": "code",
   "execution_count": 12,
   "metadata": {
    "scrolled": false
   },
   "outputs": [
    {
     "name": "stderr",
     "output_type": "stream",
     "text": [
      "100%|██████████| 6584/6584 [23:26<00:00,  2.27it/s]  \n"
     ]
    }
   ],
   "source": [
    "from rra import match_reaction\n",
    "\n",
    "matches = {}\n",
    "matchexceptions = {}\n",
    "\n",
    "def fill_matches(reac_id):\n",
    "    try:\n",
    "        reaction_matches = list(match_reaction(dp, reac_id, step_max=1, backward_hitlimit=300, forward_hitlimit=300, suppress_warnings=True))\n",
    "        if reaction_matches:\n",
    "            matches[reac_id] = reaction_matches\n",
    "    except Exception as e:\n",
    "        matchexceptions[reac_id] = e\n",
    "\n",
    "from tqdm import tqdm\n",
    "tqdm.pandas()\n",
    "dataset_reactions.progress_apply(lambda row: fill_matches(row.reaction), axis=1)\n",
    "\n",
    "with open(f'{TEMP}/matches.dump', 'w') as matchdump:\n",
    "    matchdump.write(f'{matches}')"
   ]
  },
  {
   "cell_type": "code",
   "execution_count": 13,
   "metadata": {},
   "outputs": [
    {
     "name": "stdout",
     "output_type": "stream",
     "text": [
      "3222\n"
     ]
    }
   ],
   "source": [
    "try:\n",
    "    print(len(matches.keys()))\n",
    "except:\n",
    "    import ast\n",
    "    with open(f'{TEMP}/matches.dump') as dump:\n",
    "        matches = ast.literal_eval(dump.read())"
   ]
  },
  {
   "cell_type": "markdown",
   "metadata": {},
   "source": [
    "## <a class=\"anchor\" id=\"classify\"></a>Match Characterization [$\\Uparrow$](#toc)\n",
    "\n",
    "The results of the match finding algorithm are compiled into a dataframe holding the reaction's identifier, all predicted paths that lead to a match and the respective rules involved in these prediction paths. Furthermore, the matches are characterized by the direction of the matching prediction path relative to the direction of the original reaction, e.g. if the reaction <code>A > B</code> is triggered by rule `R1` and <code>B > A</code> is triggered by rule `R2`, the corresponding reaction row will have two sets of involved rules: `(f,[R1])` and `(r,[R2])` where _f<a></a>_ stands for 'forward' and _r_ for 'reverse'."
   ]
  },
  {
   "cell_type": "code",
   "execution_count": 14,
   "metadata": {},
   "outputs": [
    {
     "name": "stderr",
     "output_type": "stream",
     "text": [
      "100%|██████████| 3222/3222 [00:11<00:00, 280.36it/s]\n"
     ]
    },
    {
     "data": {
      "text/html": [
       "<div>\n",
       "<style scoped>\n",
       "    .dataframe tbody tr th:only-of-type {\n",
       "        vertical-align: middle;\n",
       "    }\n",
       "\n",
       "    .dataframe tbody tr th {\n",
       "        vertical-align: top;\n",
       "    }\n",
       "\n",
       "    .dataframe thead th {\n",
       "        text-align: right;\n",
       "    }\n",
       "</style>\n",
       "<table border=\"1\" class=\"dataframe\">\n",
       "  <thead>\n",
       "    <tr style=\"text-align: right;\">\n",
       "      <th></th>\n",
       "      <th>matches</th>\n",
       "      <th>rid</th>\n",
       "      <th>rulesets</th>\n",
       "    </tr>\n",
       "  </thead>\n",
       "  <tbody>\n",
       "    <tr>\n",
       "      <th>0</th>\n",
       "      <td>[[(True, [70495])]]</td>\n",
       "      <td>4</td>\n",
       "      <td>[(f, [3568])]</td>\n",
       "    </tr>\n",
       "    <tr>\n",
       "      <th>1</th>\n",
       "      <td>[[(True, [108952])]]</td>\n",
       "      <td>5</td>\n",
       "      <td>[(f, [1196])]</td>\n",
       "    </tr>\n",
       "    <tr>\n",
       "      <th>2</th>\n",
       "      <td>[[(True, [123645])], [(True, [48902])], [(True...</td>\n",
       "      <td>6</td>\n",
       "      <td>[(f, [4141])]</td>\n",
       "    </tr>\n",
       "    <tr>\n",
       "      <th>3</th>\n",
       "      <td>[[(True, [123646])], [(True, [48904])], [(True...</td>\n",
       "      <td>7</td>\n",
       "      <td>[(f, [4141])]</td>\n",
       "    </tr>\n",
       "    <tr>\n",
       "      <th>4</th>\n",
       "      <td>[[(True, [123645])], [(True, [48902])], [(True...</td>\n",
       "      <td>8</td>\n",
       "      <td>[(f, [4141])]</td>\n",
       "    </tr>\n",
       "  </tbody>\n",
       "</table>\n",
       "</div>"
      ],
      "text/plain": [
       "                                             matches  rid       rulesets\n",
       "0                                [[(True, [70495])]]    4  [(f, [3568])]\n",
       "1                               [[(True, [108952])]]    5  [(f, [1196])]\n",
       "2  [[(True, [123645])], [(True, [48902])], [(True...    6  [(f, [4141])]\n",
       "3  [[(True, [123646])], [(True, [48904])], [(True...    7  [(f, [4141])]\n",
       "4  [[(True, [123645])], [(True, [48902])], [(True...    8  [(f, [4141])]"
      ]
     },
     "execution_count": 14,
     "metadata": {},
     "output_type": "execute_result"
    }
   ],
   "source": [
    "from rra.logic import sufficient_rule_sets, non_reducible_rule_sets\n",
    "\n",
    "matches_df = DataFrame([{'rid':rid, 'matches': matches[rid]} for rid in matches])\n",
    "matches_df.reset_index(drop=True, inplace=True)\n",
    "matches_df['rulesets'] = matches_df[matches_df.matches.notnull()].progress_apply(\n",
    "    lambda row: non_reducible_rule_sets(sufficient_rule_sets(dp, row.matches, coln='simpfix')),\n",
    "    axis=1\n",
    ");\n",
    "matches_df.to_pickle(f'{DATA}/matches_df_plusd.pkl')\n",
    "matches_df.head()"
   ]
  },
  {
   "cell_type": "markdown",
   "metadata": {},
   "source": [
    "## <a class=\"anchor\" id=\"rra\"></a>Direct Rule-Reaction Association [$\\Uparrow$](#toc)\n",
    "\n",
    "The reactions that are matched by applying a single rule to their substrates are directly associated with that rule and collected into a file. This file contains the essential outcome of the algorithm that is further processed for generating rule-enzyme links.<br>"
   ]
  },
  {
   "cell_type": "code",
   "execution_count": 15,
   "metadata": {},
   "outputs": [
    {
     "name": "stdout",
     "output_type": "stream",
     "text": [
      "(2003, 4)\n"
     ]
    },
    {
     "data": {
      "text/html": [
       "<div>\n",
       "<style scoped>\n",
       "    .dataframe tbody tr th:only-of-type {\n",
       "        vertical-align: middle;\n",
       "    }\n",
       "\n",
       "    .dataframe tbody tr th {\n",
       "        vertical-align: top;\n",
       "    }\n",
       "\n",
       "    .dataframe thead th {\n",
       "        text-align: right;\n",
       "    }\n",
       "</style>\n",
       "<table border=\"1\" class=\"dataframe\">\n",
       "  <thead>\n",
       "    <tr style=\"text-align: right;\">\n",
       "      <th></th>\n",
       "      <th>bt</th>\n",
       "      <th>direction</th>\n",
       "      <th>reaction</th>\n",
       "      <th>envipath_url</th>\n",
       "    </tr>\n",
       "  </thead>\n",
       "  <tbody>\n",
       "    <tr>\n",
       "      <th>1998</th>\n",
       "      <td>3564</td>\n",
       "      <td>f</td>\n",
       "      <td>6558</td>\n",
       "      <td>R12623</td>\n",
       "    </tr>\n",
       "    <tr>\n",
       "      <th>1999</th>\n",
       "      <td>3564</td>\n",
       "      <td>f</td>\n",
       "      <td>6559</td>\n",
       "      <td>R12624</td>\n",
       "    </tr>\n",
       "    <tr>\n",
       "      <th>2000</th>\n",
       "      <td>3564</td>\n",
       "      <td>f</td>\n",
       "      <td>6560</td>\n",
       "      <td>R12625</td>\n",
       "    </tr>\n",
       "    <tr>\n",
       "      <th>2001</th>\n",
       "      <td>4013</td>\n",
       "      <td>f</td>\n",
       "      <td>6564</td>\n",
       "      <td>R12635</td>\n",
       "    </tr>\n",
       "    <tr>\n",
       "      <th>2002</th>\n",
       "      <td>4141</td>\n",
       "      <td>f</td>\n",
       "      <td>6568</td>\n",
       "      <td>R12641</td>\n",
       "    </tr>\n",
       "  </tbody>\n",
       "</table>\n",
       "</div>"
      ],
      "text/plain": [
       "        bt direction  reaction envipath_url\n",
       "1998  3564         f      6558       R12623\n",
       "1999  3564         f      6559       R12624\n",
       "2000  3564         f      6560       R12625\n",
       "2001  4013         f      6564       R12635\n",
       "2002  4141         f      6568       R12641"
      ]
     },
     "execution_count": 15,
     "metadata": {},
     "output_type": "execute_result"
    }
   ],
   "source": [
    "def unambigous_associations(df):\n",
    "    for i in df.index:\n",
    "        if df.loc[i, 'rulesets'] != df.loc[i, 'rulesets']:\n",
    "            continue\n",
    "        for (direction,ruleset) in df.loc[i,'rulesets']:\n",
    "            if len(ruleset) == 1 and direction == 'f':\n",
    "                yield {'reaction':df.loc[i,'rid'], 'bt':ruleset[0], 'direction':direction}\n",
    "\n",
    "direct_links = DataFrame(unambigous_associations(matches_df))\\\n",
    "    .merge(dataset_reactions, on='reaction')\\\n",
    "    .drop_duplicates()\n",
    "\n",
    "direct_links.to_csv(f'{DATA}/direct_links.tsv', index=None, sep=\"\\t\")\n",
    "\n",
    "print(direct_links.shape)\n",
    "direct_links.tail()"
   ]
  }
 ],
 "metadata": {
  "kernelspec": {
   "display_name": "Python 3",
   "language": "python",
   "name": "python3"
  },
  "language_info": {
   "codemirror_mode": {
    "name": "ipython",
    "version": 3
   },
   "file_extension": ".py",
   "mimetype": "text/x-python",
   "name": "python",
   "nbconvert_exporter": "python",
   "pygments_lexer": "ipython3",
   "version": "3.7.3"
  }
 },
 "nbformat": 4,
 "nbformat_minor": 2
}
